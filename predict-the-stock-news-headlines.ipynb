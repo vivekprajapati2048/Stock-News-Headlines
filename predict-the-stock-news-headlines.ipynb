{
 "cells": [
  {
   "cell_type": "code",
   "execution_count": 1,
   "id": "8e150176",
   "metadata": {
    "_cell_guid": "b1076dfc-b9ad-4769-8c92-a6c4dae69d19",
    "_uuid": "8f2839f25d086af736a60e9eeb907d3b93b6e0e5",
    "execution": {
     "iopub.execute_input": "2021-07-18T15:56:14.331332Z",
     "iopub.status.busy": "2021-07-18T15:56:14.329487Z",
     "iopub.status.idle": "2021-07-18T15:56:14.353013Z",
     "shell.execute_reply": "2021-07-18T15:56:14.353767Z",
     "shell.execute_reply.started": "2021-07-18T15:15:21.010495Z"
    },
    "papermill": {
     "duration": 0.074333,
     "end_time": "2021-07-18T15:56:14.354185",
     "exception": false,
     "start_time": "2021-07-18T15:56:14.279852",
     "status": "completed"
    },
    "tags": []
   },
   "outputs": [
    {
     "name": "stdout",
     "output_type": "stream",
     "text": [
      "/kaggle/input/stock-news-headlines/Data.csv\n"
     ]
    }
   ],
   "source": [
    "# This Python 3 environment comes with many helpful analytics libraries installed\n",
    "# It is defined by the kaggle/python Docker image: https://github.com/kaggle/docker-python\n",
    "\n",
    "# Input data files are available in the read-only \"../input/\" directory\n",
    "# For example, running this (by clicking run or pressing Shift+Enter) will list all files under the input directory\n",
    "\n",
    "import os\n",
    "for dirname, _, filenames in os.walk('/kaggle/input'):\n",
    "    for filename in filenames:\n",
    "        print(os.path.join(dirname, filename))\n",
    "\n",
    "# You can write up to 20GB to the current directory (/kaggle/working/) that gets preserved as output when you create a version using \"Save & Run All\" \n",
    "# You can also write temporary files to /kaggle/temp/, but they won't be saved outside of the current session"
   ]
  },
  {
   "cell_type": "code",
   "execution_count": 2,
   "id": "7ce9ad33",
   "metadata": {
    "execution": {
     "iopub.execute_input": "2021-07-18T15:56:14.427362Z",
     "iopub.status.busy": "2021-07-18T15:56:14.426568Z",
     "iopub.status.idle": "2021-07-18T15:56:15.730753Z",
     "shell.execute_reply": "2021-07-18T15:56:15.731474Z",
     "shell.execute_reply.started": "2021-07-18T15:48:27.376696Z"
    },
    "papermill": {
     "duration": 1.343133,
     "end_time": "2021-07-18T15:56:15.731689",
     "exception": false,
     "start_time": "2021-07-18T15:56:14.388556",
     "status": "completed"
    },
    "tags": []
   },
   "outputs": [],
   "source": [
    "import numpy as np\n",
    "import pandas as pd\n",
    "import matplotlib.pyplot as plt\n",
    "\n",
    "\n",
    "from sklearn.feature_extraction.text import CountVectorizer\n",
    "from sklearn.ensemble import RandomForestClassifier\n",
    "from sklearn.naive_bayes import MultinomialNB\n",
    "from sklearn.metrics import confusion_matrix, classification_report, accuracy_score"
   ]
  },
  {
   "cell_type": "markdown",
   "id": "756b1d62",
   "metadata": {
    "papermill": {
     "duration": 0.032063,
     "end_time": "2021-07-18T15:56:15.797304",
     "exception": false,
     "start_time": "2021-07-18T15:56:15.765241",
     "status": "completed"
    },
    "tags": []
   },
   "source": [
    "## Data Pre-Processing"
   ]
  },
  {
   "cell_type": "code",
   "execution_count": 3,
   "id": "828f9c1e",
   "metadata": {
    "execution": {
     "iopub.execute_input": "2021-07-18T15:56:15.865475Z",
     "iopub.status.busy": "2021-07-18T15:56:15.864518Z",
     "iopub.status.idle": "2021-07-18T15:56:16.148234Z",
     "shell.execute_reply": "2021-07-18T15:56:16.148866Z",
     "shell.execute_reply.started": "2021-07-18T15:15:21.041001Z"
    },
    "papermill": {
     "duration": 0.319504,
     "end_time": "2021-07-18T15:56:16.149041",
     "exception": false,
     "start_time": "2021-07-18T15:56:15.829537",
     "status": "completed"
    },
    "tags": []
   },
   "outputs": [
    {
     "data": {
      "text/html": [
       "<div>\n",
       "<style scoped>\n",
       "    .dataframe tbody tr th:only-of-type {\n",
       "        vertical-align: middle;\n",
       "    }\n",
       "\n",
       "    .dataframe tbody tr th {\n",
       "        vertical-align: top;\n",
       "    }\n",
       "\n",
       "    .dataframe thead th {\n",
       "        text-align: right;\n",
       "    }\n",
       "</style>\n",
       "<table border=\"1\" class=\"dataframe\">\n",
       "  <thead>\n",
       "    <tr style=\"text-align: right;\">\n",
       "      <th></th>\n",
       "      <th>Date</th>\n",
       "      <th>Label</th>\n",
       "      <th>Top1</th>\n",
       "      <th>Top2</th>\n",
       "      <th>Top3</th>\n",
       "      <th>Top4</th>\n",
       "      <th>Top5</th>\n",
       "      <th>Top6</th>\n",
       "      <th>Top7</th>\n",
       "      <th>Top8</th>\n",
       "      <th>...</th>\n",
       "      <th>Top16</th>\n",
       "      <th>Top17</th>\n",
       "      <th>Top18</th>\n",
       "      <th>Top19</th>\n",
       "      <th>Top20</th>\n",
       "      <th>Top21</th>\n",
       "      <th>Top22</th>\n",
       "      <th>Top23</th>\n",
       "      <th>Top24</th>\n",
       "      <th>Top25</th>\n",
       "    </tr>\n",
       "  </thead>\n",
       "  <tbody>\n",
       "    <tr>\n",
       "      <th>0</th>\n",
       "      <td>2000-01-03</td>\n",
       "      <td>0</td>\n",
       "      <td>A 'hindrance to operations': extracts from the...</td>\n",
       "      <td>Scorecard</td>\n",
       "      <td>Hughes' instant hit buoys Blues</td>\n",
       "      <td>Jack gets his skates on at ice-cold Alex</td>\n",
       "      <td>Chaos as Maracana builds up for United</td>\n",
       "      <td>Depleted Leicester prevail as Elliott spoils E...</td>\n",
       "      <td>Hungry Spurs sense rich pickings</td>\n",
       "      <td>Gunners so wide of an easy target</td>\n",
       "      <td>...</td>\n",
       "      <td>Flintoff injury piles on woe for England</td>\n",
       "      <td>Hunters threaten Jospin with new battle of the...</td>\n",
       "      <td>Kohl's successor drawn into scandal</td>\n",
       "      <td>The difference between men and women</td>\n",
       "      <td>Sara Denver, nurse turned solicitor</td>\n",
       "      <td>Diana's landmine crusade put Tories in a panic</td>\n",
       "      <td>Yeltsin's resignation caught opposition flat-f...</td>\n",
       "      <td>Russian roulette</td>\n",
       "      <td>Sold out</td>\n",
       "      <td>Recovering a title</td>\n",
       "    </tr>\n",
       "    <tr>\n",
       "      <th>1</th>\n",
       "      <td>2000-01-04</td>\n",
       "      <td>0</td>\n",
       "      <td>Scorecard</td>\n",
       "      <td>The best lake scene</td>\n",
       "      <td>Leader: German sleaze inquiry</td>\n",
       "      <td>Cheerio, boyo</td>\n",
       "      <td>The main recommendations</td>\n",
       "      <td>Has Cubie killed fees?</td>\n",
       "      <td>Has Cubie killed fees?</td>\n",
       "      <td>Has Cubie killed fees?</td>\n",
       "      <td>...</td>\n",
       "      <td>On the critical list</td>\n",
       "      <td>The timing of their lives</td>\n",
       "      <td>Dear doctor</td>\n",
       "      <td>Irish court halts IRA man's extradition to Nor...</td>\n",
       "      <td>Burundi peace initiative fades after rebels re...</td>\n",
       "      <td>PE points the way forward to the ECB</td>\n",
       "      <td>Campaigners keep up pressure on Nazi war crime...</td>\n",
       "      <td>Jane Ratcliffe</td>\n",
       "      <td>Yet more things you wouldn't know without the ...</td>\n",
       "      <td>Millennium bug fails to bite</td>\n",
       "    </tr>\n",
       "    <tr>\n",
       "      <th>2</th>\n",
       "      <td>2000-01-05</td>\n",
       "      <td>0</td>\n",
       "      <td>Coventry caught on counter by Flo</td>\n",
       "      <td>United's rivals on the road to Rio</td>\n",
       "      <td>Thatcher issues defence before trial by video</td>\n",
       "      <td>Police help Smith lay down the law at Everton</td>\n",
       "      <td>Tale of Trautmann bears two more retellings</td>\n",
       "      <td>England on the rack</td>\n",
       "      <td>Pakistan retaliate with call for video of Walsh</td>\n",
       "      <td>Cullinan continues his Cape monopoly</td>\n",
       "      <td>...</td>\n",
       "      <td>South Melbourne (Australia)</td>\n",
       "      <td>Necaxa (Mexico)</td>\n",
       "      <td>Real Madrid (Spain)</td>\n",
       "      <td>Raja Casablanca (Morocco)</td>\n",
       "      <td>Corinthians (Brazil)</td>\n",
       "      <td>Tony's pet project</td>\n",
       "      <td>Al Nassr (Saudi Arabia)</td>\n",
       "      <td>Ideal Holmes show</td>\n",
       "      <td>Pinochet leaves hospital after tests</td>\n",
       "      <td>Useful links</td>\n",
       "    </tr>\n",
       "    <tr>\n",
       "      <th>3</th>\n",
       "      <td>2000-01-06</td>\n",
       "      <td>1</td>\n",
       "      <td>Pilgrim knows how to progress</td>\n",
       "      <td>Thatcher facing ban</td>\n",
       "      <td>McIlroy calls for Irish fighting spirit</td>\n",
       "      <td>Leicester bin stadium blueprint</td>\n",
       "      <td>United braced for Mexican wave</td>\n",
       "      <td>Auntie back in fashion, even if the dress look...</td>\n",
       "      <td>Shoaib appeal goes to the top</td>\n",
       "      <td>Hussain hurt by 'shambles' but lays blame on e...</td>\n",
       "      <td>...</td>\n",
       "      <td>Putin admits Yeltsin quit to give him a head s...</td>\n",
       "      <td>BBC worst hit as digital TV begins to bite</td>\n",
       "      <td>How much can you pay for...</td>\n",
       "      <td>Christmas glitches</td>\n",
       "      <td>Upending a table, Chopping a line and Scoring ...</td>\n",
       "      <td>Scientific evidence 'unreliable', defence claims</td>\n",
       "      <td>Fusco wins judicial review in extradition case</td>\n",
       "      <td>Rebels thwart Russian advance</td>\n",
       "      <td>Blair orders shake-up of failing NHS</td>\n",
       "      <td>Lessons of law's hard heart</td>\n",
       "    </tr>\n",
       "    <tr>\n",
       "      <th>4</th>\n",
       "      <td>2000-01-07</td>\n",
       "      <td>1</td>\n",
       "      <td>Hitches and Horlocks</td>\n",
       "      <td>Beckham off but United survive</td>\n",
       "      <td>Breast cancer screening</td>\n",
       "      <td>Alan Parker</td>\n",
       "      <td>Guardian readers: are you all whingers?</td>\n",
       "      <td>Hollywood Beyond</td>\n",
       "      <td>Ashes and diamonds</td>\n",
       "      <td>Whingers - a formidable minority</td>\n",
       "      <td>...</td>\n",
       "      <td>Most everywhere:  UDIs</td>\n",
       "      <td>Most wanted:  Chloe lunettes</td>\n",
       "      <td>Return of the cane 'completely off the agenda'</td>\n",
       "      <td>From Sleepy Hollow to Greeneland</td>\n",
       "      <td>Blunkett outlines vision for over 11s</td>\n",
       "      <td>Embattled Dobson attacks 'play now, pay later'...</td>\n",
       "      <td>Doom and the Dome</td>\n",
       "      <td>What is the north-south divide?</td>\n",
       "      <td>Aitken released from jail</td>\n",
       "      <td>Gone aloft</td>\n",
       "    </tr>\n",
       "  </tbody>\n",
       "</table>\n",
       "<p>5 rows × 27 columns</p>\n",
       "</div>"
      ],
      "text/plain": [
       "         Date  Label                                               Top1  \\\n",
       "0  2000-01-03      0  A 'hindrance to operations': extracts from the...   \n",
       "1  2000-01-04      0                                          Scorecard   \n",
       "2  2000-01-05      0                  Coventry caught on counter by Flo   \n",
       "3  2000-01-06      1                      Pilgrim knows how to progress   \n",
       "4  2000-01-07      1                               Hitches and Horlocks   \n",
       "\n",
       "                                 Top2  \\\n",
       "0                           Scorecard   \n",
       "1                 The best lake scene   \n",
       "2  United's rivals on the road to Rio   \n",
       "3                 Thatcher facing ban   \n",
       "4      Beckham off but United survive   \n",
       "\n",
       "                                            Top3  \\\n",
       "0                Hughes' instant hit buoys Blues   \n",
       "1                  Leader: German sleaze inquiry   \n",
       "2  Thatcher issues defence before trial by video   \n",
       "3        McIlroy calls for Irish fighting spirit   \n",
       "4                        Breast cancer screening   \n",
       "\n",
       "                                            Top4  \\\n",
       "0       Jack gets his skates on at ice-cold Alex   \n",
       "1                                  Cheerio, boyo   \n",
       "2  Police help Smith lay down the law at Everton   \n",
       "3                Leicester bin stadium blueprint   \n",
       "4                                    Alan Parker   \n",
       "\n",
       "                                          Top5  \\\n",
       "0       Chaos as Maracana builds up for United   \n",
       "1                     The main recommendations   \n",
       "2  Tale of Trautmann bears two more retellings   \n",
       "3               United braced for Mexican wave   \n",
       "4      Guardian readers: are you all whingers?   \n",
       "\n",
       "                                                Top6  \\\n",
       "0  Depleted Leicester prevail as Elliott spoils E...   \n",
       "1                             Has Cubie killed fees?   \n",
       "2                                England on the rack   \n",
       "3  Auntie back in fashion, even if the dress look...   \n",
       "4                                   Hollywood Beyond   \n",
       "\n",
       "                                              Top7  \\\n",
       "0                 Hungry Spurs sense rich pickings   \n",
       "1                           Has Cubie killed fees?   \n",
       "2  Pakistan retaliate with call for video of Walsh   \n",
       "3                    Shoaib appeal goes to the top   \n",
       "4                               Ashes and diamonds   \n",
       "\n",
       "                                                Top8  ...  \\\n",
       "0                  Gunners so wide of an easy target  ...   \n",
       "1                             Has Cubie killed fees?  ...   \n",
       "2               Cullinan continues his Cape monopoly  ...   \n",
       "3  Hussain hurt by 'shambles' but lays blame on e...  ...   \n",
       "4                   Whingers - a formidable minority  ...   \n",
       "\n",
       "                                               Top16  \\\n",
       "0           Flintoff injury piles on woe for England   \n",
       "1                               On the critical list   \n",
       "2                        South Melbourne (Australia)   \n",
       "3  Putin admits Yeltsin quit to give him a head s...   \n",
       "4                             Most everywhere:  UDIs   \n",
       "\n",
       "                                               Top17  \\\n",
       "0  Hunters threaten Jospin with new battle of the...   \n",
       "1                          The timing of their lives   \n",
       "2                                    Necaxa (Mexico)   \n",
       "3         BBC worst hit as digital TV begins to bite   \n",
       "4                       Most wanted:  Chloe lunettes   \n",
       "\n",
       "                                            Top18  \\\n",
       "0             Kohl's successor drawn into scandal   \n",
       "1                                     Dear doctor   \n",
       "2                             Real Madrid (Spain)   \n",
       "3                     How much can you pay for...   \n",
       "4  Return of the cane 'completely off the agenda'   \n",
       "\n",
       "                                               Top19  \\\n",
       "0               The difference between men and women   \n",
       "1  Irish court halts IRA man's extradition to Nor...   \n",
       "2                          Raja Casablanca (Morocco)   \n",
       "3                                 Christmas glitches   \n",
       "4                   From Sleepy Hollow to Greeneland   \n",
       "\n",
       "                                               Top20  \\\n",
       "0                Sara Denver, nurse turned solicitor   \n",
       "1  Burundi peace initiative fades after rebels re...   \n",
       "2                               Corinthians (Brazil)   \n",
       "3  Upending a table, Chopping a line and Scoring ...   \n",
       "4              Blunkett outlines vision for over 11s   \n",
       "\n",
       "                                               Top21  \\\n",
       "0     Diana's landmine crusade put Tories in a panic   \n",
       "1               PE points the way forward to the ECB   \n",
       "2                                 Tony's pet project   \n",
       "3   Scientific evidence 'unreliable', defence claims   \n",
       "4  Embattled Dobson attacks 'play now, pay later'...   \n",
       "\n",
       "                                               Top22  \\\n",
       "0  Yeltsin's resignation caught opposition flat-f...   \n",
       "1  Campaigners keep up pressure on Nazi war crime...   \n",
       "2                            Al Nassr (Saudi Arabia)   \n",
       "3     Fusco wins judicial review in extradition case   \n",
       "4                                  Doom and the Dome   \n",
       "\n",
       "                             Top23  \\\n",
       "0                 Russian roulette   \n",
       "1                   Jane Ratcliffe   \n",
       "2                Ideal Holmes show   \n",
       "3    Rebels thwart Russian advance   \n",
       "4  What is the north-south divide?   \n",
       "\n",
       "                                               Top24  \\\n",
       "0                                           Sold out   \n",
       "1  Yet more things you wouldn't know without the ...   \n",
       "2               Pinochet leaves hospital after tests   \n",
       "3               Blair orders shake-up of failing NHS   \n",
       "4                          Aitken released from jail   \n",
       "\n",
       "                          Top25  \n",
       "0            Recovering a title  \n",
       "1  Millennium bug fails to bite  \n",
       "2                  Useful links  \n",
       "3   Lessons of law's hard heart  \n",
       "4                    Gone aloft  \n",
       "\n",
       "[5 rows x 27 columns]"
      ]
     },
     "execution_count": 3,
     "metadata": {},
     "output_type": "execute_result"
    }
   ],
   "source": [
    "df = pd.read_csv('/kaggle/input/stock-news-headlines/Data.csv')\n",
    "df.head()"
   ]
  },
  {
   "cell_type": "code",
   "execution_count": 4,
   "id": "ce46c75d",
   "metadata": {
    "execution": {
     "iopub.execute_input": "2021-07-18T15:56:16.218923Z",
     "iopub.status.busy": "2021-07-18T15:56:16.217956Z",
     "iopub.status.idle": "2021-07-18T15:56:16.224829Z",
     "shell.execute_reply": "2021-07-18T15:56:16.224336Z",
     "shell.execute_reply.started": "2021-07-18T15:15:21.410336Z"
    },
    "papermill": {
     "duration": 0.042951,
     "end_time": "2021-07-18T15:56:16.224969",
     "exception": false,
     "start_time": "2021-07-18T15:56:16.182018",
     "status": "completed"
    },
    "tags": []
   },
   "outputs": [
    {
     "data": {
      "text/plain": [
       "(4101, 27)"
      ]
     },
     "execution_count": 4,
     "metadata": {},
     "output_type": "execute_result"
    }
   ],
   "source": [
    "df.shape"
   ]
  },
  {
   "cell_type": "code",
   "execution_count": 5,
   "id": "18964b26",
   "metadata": {
    "execution": {
     "iopub.execute_input": "2021-07-18T15:56:16.303398Z",
     "iopub.status.busy": "2021-07-18T15:56:16.302339Z",
     "iopub.status.idle": "2021-07-18T15:56:16.311047Z",
     "shell.execute_reply": "2021-07-18T15:56:16.310534Z",
     "shell.execute_reply.started": "2021-07-18T15:15:21.422208Z"
    },
    "papermill": {
     "duration": 0.051682,
     "end_time": "2021-07-18T15:56:16.311215",
     "exception": false,
     "start_time": "2021-07-18T15:56:16.259533",
     "status": "completed"
    },
    "tags": []
   },
   "outputs": [],
   "source": [
    "# seperate training and test data\n",
    "train = df[df['Date'] < '20150101']\n",
    "test = df[df['Date'] > '20141231']"
   ]
  },
  {
   "cell_type": "code",
   "execution_count": 6,
   "id": "91c0953c",
   "metadata": {
    "execution": {
     "iopub.execute_input": "2021-07-18T15:56:16.384029Z",
     "iopub.status.busy": "2021-07-18T15:56:16.383303Z",
     "iopub.status.idle": "2021-07-18T15:56:16.387400Z",
     "shell.execute_reply": "2021-07-18T15:56:16.386891Z",
     "shell.execute_reply.started": "2021-07-18T15:23:34.126472Z"
    },
    "papermill": {
     "duration": 0.042661,
     "end_time": "2021-07-18T15:56:16.387543",
     "exception": false,
     "start_time": "2021-07-18T15:56:16.344882",
     "status": "completed"
    },
    "tags": []
   },
   "outputs": [
    {
     "data": {
      "text/plain": [
       "(3975, 27)"
      ]
     },
     "execution_count": 6,
     "metadata": {},
     "output_type": "execute_result"
    }
   ],
   "source": [
    "train.shape"
   ]
  },
  {
   "cell_type": "code",
   "execution_count": 7,
   "id": "88782fff",
   "metadata": {
    "execution": {
     "iopub.execute_input": "2021-07-18T15:56:16.486577Z",
     "iopub.status.busy": "2021-07-18T15:56:16.460870Z",
     "iopub.status.idle": "2021-07-18T15:56:16.489798Z",
     "shell.execute_reply": "2021-07-18T15:56:16.490274Z",
     "shell.execute_reply.started": "2021-07-18T15:15:21.460946Z"
    },
    "papermill": {
     "duration": 0.067655,
     "end_time": "2021-07-18T15:56:16.490454",
     "exception": false,
     "start_time": "2021-07-18T15:56:16.422799",
     "status": "completed"
    },
    "tags": []
   },
   "outputs": [
    {
     "data": {
      "text/html": [
       "<div>\n",
       "<style scoped>\n",
       "    .dataframe tbody tr th:only-of-type {\n",
       "        vertical-align: middle;\n",
       "    }\n",
       "\n",
       "    .dataframe tbody tr th {\n",
       "        vertical-align: top;\n",
       "    }\n",
       "\n",
       "    .dataframe thead th {\n",
       "        text-align: right;\n",
       "    }\n",
       "</style>\n",
       "<table border=\"1\" class=\"dataframe\">\n",
       "  <thead>\n",
       "    <tr style=\"text-align: right;\">\n",
       "      <th></th>\n",
       "      <th>Top1</th>\n",
       "      <th>Top2</th>\n",
       "      <th>Top3</th>\n",
       "      <th>Top4</th>\n",
       "      <th>Top5</th>\n",
       "      <th>Top6</th>\n",
       "      <th>Top7</th>\n",
       "      <th>Top8</th>\n",
       "      <th>Top9</th>\n",
       "      <th>Top10</th>\n",
       "      <th>...</th>\n",
       "      <th>Top16</th>\n",
       "      <th>Top17</th>\n",
       "      <th>Top18</th>\n",
       "      <th>Top19</th>\n",
       "      <th>Top20</th>\n",
       "      <th>Top21</th>\n",
       "      <th>Top22</th>\n",
       "      <th>Top23</th>\n",
       "      <th>Top24</th>\n",
       "      <th>Top25</th>\n",
       "    </tr>\n",
       "  </thead>\n",
       "  <tbody>\n",
       "    <tr>\n",
       "      <th>0</th>\n",
       "      <td>A 'hindrance to operations': extracts from the...</td>\n",
       "      <td>Scorecard</td>\n",
       "      <td>Hughes' instant hit buoys Blues</td>\n",
       "      <td>Jack gets his skates on at ice-cold Alex</td>\n",
       "      <td>Chaos as Maracana builds up for United</td>\n",
       "      <td>Depleted Leicester prevail as Elliott spoils E...</td>\n",
       "      <td>Hungry Spurs sense rich pickings</td>\n",
       "      <td>Gunners so wide of an easy target</td>\n",
       "      <td>Derby raise a glass to Strupar's debut double</td>\n",
       "      <td>Southgate strikes, Leeds pay the penalty</td>\n",
       "      <td>...</td>\n",
       "      <td>Flintoff injury piles on woe for England</td>\n",
       "      <td>Hunters threaten Jospin with new battle of the...</td>\n",
       "      <td>Kohl's successor drawn into scandal</td>\n",
       "      <td>The difference between men and women</td>\n",
       "      <td>Sara Denver, nurse turned solicitor</td>\n",
       "      <td>Diana's landmine crusade put Tories in a panic</td>\n",
       "      <td>Yeltsin's resignation caught opposition flat-f...</td>\n",
       "      <td>Russian roulette</td>\n",
       "      <td>Sold out</td>\n",
       "      <td>Recovering a title</td>\n",
       "    </tr>\n",
       "    <tr>\n",
       "      <th>1</th>\n",
       "      <td>Scorecard</td>\n",
       "      <td>The best lake scene</td>\n",
       "      <td>Leader: German sleaze inquiry</td>\n",
       "      <td>Cheerio, boyo</td>\n",
       "      <td>The main recommendations</td>\n",
       "      <td>Has Cubie killed fees?</td>\n",
       "      <td>Has Cubie killed fees?</td>\n",
       "      <td>Has Cubie killed fees?</td>\n",
       "      <td>Hopkins 'furious' at Foster's lack of Hannibal...</td>\n",
       "      <td>Has Cubie killed fees?</td>\n",
       "      <td>...</td>\n",
       "      <td>On the critical list</td>\n",
       "      <td>The timing of their lives</td>\n",
       "      <td>Dear doctor</td>\n",
       "      <td>Irish court halts IRA man's extradition to Nor...</td>\n",
       "      <td>Burundi peace initiative fades after rebels re...</td>\n",
       "      <td>PE points the way forward to the ECB</td>\n",
       "      <td>Campaigners keep up pressure on Nazi war crime...</td>\n",
       "      <td>Jane Ratcliffe</td>\n",
       "      <td>Yet more things you wouldn't know without the ...</td>\n",
       "      <td>Millennium bug fails to bite</td>\n",
       "    </tr>\n",
       "    <tr>\n",
       "      <th>2</th>\n",
       "      <td>Coventry caught on counter by Flo</td>\n",
       "      <td>United's rivals on the road to Rio</td>\n",
       "      <td>Thatcher issues defence before trial by video</td>\n",
       "      <td>Police help Smith lay down the law at Everton</td>\n",
       "      <td>Tale of Trautmann bears two more retellings</td>\n",
       "      <td>England on the rack</td>\n",
       "      <td>Pakistan retaliate with call for video of Walsh</td>\n",
       "      <td>Cullinan continues his Cape monopoly</td>\n",
       "      <td>McGrath puts India out of their misery</td>\n",
       "      <td>Blair Witch bandwagon rolls on</td>\n",
       "      <td>...</td>\n",
       "      <td>South Melbourne (Australia)</td>\n",
       "      <td>Necaxa (Mexico)</td>\n",
       "      <td>Real Madrid (Spain)</td>\n",
       "      <td>Raja Casablanca (Morocco)</td>\n",
       "      <td>Corinthians (Brazil)</td>\n",
       "      <td>Tony's pet project</td>\n",
       "      <td>Al Nassr (Saudi Arabia)</td>\n",
       "      <td>Ideal Holmes show</td>\n",
       "      <td>Pinochet leaves hospital after tests</td>\n",
       "      <td>Useful links</td>\n",
       "    </tr>\n",
       "    <tr>\n",
       "      <th>3</th>\n",
       "      <td>Pilgrim knows how to progress</td>\n",
       "      <td>Thatcher facing ban</td>\n",
       "      <td>McIlroy calls for Irish fighting spirit</td>\n",
       "      <td>Leicester bin stadium blueprint</td>\n",
       "      <td>United braced for Mexican wave</td>\n",
       "      <td>Auntie back in fashion, even if the dress look...</td>\n",
       "      <td>Shoaib appeal goes to the top</td>\n",
       "      <td>Hussain hurt by 'shambles' but lays blame on e...</td>\n",
       "      <td>England's decade of disasters</td>\n",
       "      <td>Revenge is sweet for jubilant Cronje</td>\n",
       "      <td>...</td>\n",
       "      <td>Putin admits Yeltsin quit to give him a head s...</td>\n",
       "      <td>BBC worst hit as digital TV begins to bite</td>\n",
       "      <td>How much can you pay for...</td>\n",
       "      <td>Christmas glitches</td>\n",
       "      <td>Upending a table, Chopping a line and Scoring ...</td>\n",
       "      <td>Scientific evidence 'unreliable', defence claims</td>\n",
       "      <td>Fusco wins judicial review in extradition case</td>\n",
       "      <td>Rebels thwart Russian advance</td>\n",
       "      <td>Blair orders shake-up of failing NHS</td>\n",
       "      <td>Lessons of law's hard heart</td>\n",
       "    </tr>\n",
       "    <tr>\n",
       "      <th>4</th>\n",
       "      <td>Hitches and Horlocks</td>\n",
       "      <td>Beckham off but United survive</td>\n",
       "      <td>Breast cancer screening</td>\n",
       "      <td>Alan Parker</td>\n",
       "      <td>Guardian readers: are you all whingers?</td>\n",
       "      <td>Hollywood Beyond</td>\n",
       "      <td>Ashes and diamonds</td>\n",
       "      <td>Whingers - a formidable minority</td>\n",
       "      <td>Alan Parker - part two</td>\n",
       "      <td>Thuggery, Toxins and Ties</td>\n",
       "      <td>...</td>\n",
       "      <td>Most everywhere:  UDIs</td>\n",
       "      <td>Most wanted:  Chloe lunettes</td>\n",
       "      <td>Return of the cane 'completely off the agenda'</td>\n",
       "      <td>From Sleepy Hollow to Greeneland</td>\n",
       "      <td>Blunkett outlines vision for over 11s</td>\n",
       "      <td>Embattled Dobson attacks 'play now, pay later'...</td>\n",
       "      <td>Doom and the Dome</td>\n",
       "      <td>What is the north-south divide?</td>\n",
       "      <td>Aitken released from jail</td>\n",
       "      <td>Gone aloft</td>\n",
       "    </tr>\n",
       "  </tbody>\n",
       "</table>\n",
       "<p>5 rows × 25 columns</p>\n",
       "</div>"
      ],
      "text/plain": [
       "                                                Top1  \\\n",
       "0  A 'hindrance to operations': extracts from the...   \n",
       "1                                          Scorecard   \n",
       "2                  Coventry caught on counter by Flo   \n",
       "3                      Pilgrim knows how to progress   \n",
       "4                               Hitches and Horlocks   \n",
       "\n",
       "                                 Top2  \\\n",
       "0                           Scorecard   \n",
       "1                 The best lake scene   \n",
       "2  United's rivals on the road to Rio   \n",
       "3                 Thatcher facing ban   \n",
       "4      Beckham off but United survive   \n",
       "\n",
       "                                            Top3  \\\n",
       "0                Hughes' instant hit buoys Blues   \n",
       "1                  Leader: German sleaze inquiry   \n",
       "2  Thatcher issues defence before trial by video   \n",
       "3        McIlroy calls for Irish fighting spirit   \n",
       "4                        Breast cancer screening   \n",
       "\n",
       "                                            Top4  \\\n",
       "0       Jack gets his skates on at ice-cold Alex   \n",
       "1                                  Cheerio, boyo   \n",
       "2  Police help Smith lay down the law at Everton   \n",
       "3                Leicester bin stadium blueprint   \n",
       "4                                    Alan Parker   \n",
       "\n",
       "                                          Top5  \\\n",
       "0       Chaos as Maracana builds up for United   \n",
       "1                     The main recommendations   \n",
       "2  Tale of Trautmann bears two more retellings   \n",
       "3               United braced for Mexican wave   \n",
       "4      Guardian readers: are you all whingers?   \n",
       "\n",
       "                                                Top6  \\\n",
       "0  Depleted Leicester prevail as Elliott spoils E...   \n",
       "1                             Has Cubie killed fees?   \n",
       "2                                England on the rack   \n",
       "3  Auntie back in fashion, even if the dress look...   \n",
       "4                                   Hollywood Beyond   \n",
       "\n",
       "                                              Top7  \\\n",
       "0                 Hungry Spurs sense rich pickings   \n",
       "1                           Has Cubie killed fees?   \n",
       "2  Pakistan retaliate with call for video of Walsh   \n",
       "3                    Shoaib appeal goes to the top   \n",
       "4                               Ashes and diamonds   \n",
       "\n",
       "                                                Top8  \\\n",
       "0                  Gunners so wide of an easy target   \n",
       "1                             Has Cubie killed fees?   \n",
       "2               Cullinan continues his Cape monopoly   \n",
       "3  Hussain hurt by 'shambles' but lays blame on e...   \n",
       "4                   Whingers - a formidable minority   \n",
       "\n",
       "                                                Top9  \\\n",
       "0      Derby raise a glass to Strupar's debut double   \n",
       "1  Hopkins 'furious' at Foster's lack of Hannibal...   \n",
       "2             McGrath puts India out of their misery   \n",
       "3                      England's decade of disasters   \n",
       "4                             Alan Parker - part two   \n",
       "\n",
       "                                      Top10  ...  \\\n",
       "0  Southgate strikes, Leeds pay the penalty  ...   \n",
       "1                    Has Cubie killed fees?  ...   \n",
       "2            Blair Witch bandwagon rolls on  ...   \n",
       "3      Revenge is sweet for jubilant Cronje  ...   \n",
       "4                 Thuggery, Toxins and Ties  ...   \n",
       "\n",
       "                                               Top16  \\\n",
       "0           Flintoff injury piles on woe for England   \n",
       "1                               On the critical list   \n",
       "2                        South Melbourne (Australia)   \n",
       "3  Putin admits Yeltsin quit to give him a head s...   \n",
       "4                             Most everywhere:  UDIs   \n",
       "\n",
       "                                               Top17  \\\n",
       "0  Hunters threaten Jospin with new battle of the...   \n",
       "1                          The timing of their lives   \n",
       "2                                    Necaxa (Mexico)   \n",
       "3         BBC worst hit as digital TV begins to bite   \n",
       "4                       Most wanted:  Chloe lunettes   \n",
       "\n",
       "                                            Top18  \\\n",
       "0             Kohl's successor drawn into scandal   \n",
       "1                                     Dear doctor   \n",
       "2                             Real Madrid (Spain)   \n",
       "3                     How much can you pay for...   \n",
       "4  Return of the cane 'completely off the agenda'   \n",
       "\n",
       "                                               Top19  \\\n",
       "0               The difference between men and women   \n",
       "1  Irish court halts IRA man's extradition to Nor...   \n",
       "2                          Raja Casablanca (Morocco)   \n",
       "3                                 Christmas glitches   \n",
       "4                   From Sleepy Hollow to Greeneland   \n",
       "\n",
       "                                               Top20  \\\n",
       "0                Sara Denver, nurse turned solicitor   \n",
       "1  Burundi peace initiative fades after rebels re...   \n",
       "2                               Corinthians (Brazil)   \n",
       "3  Upending a table, Chopping a line and Scoring ...   \n",
       "4              Blunkett outlines vision for over 11s   \n",
       "\n",
       "                                               Top21  \\\n",
       "0     Diana's landmine crusade put Tories in a panic   \n",
       "1               PE points the way forward to the ECB   \n",
       "2                                 Tony's pet project   \n",
       "3   Scientific evidence 'unreliable', defence claims   \n",
       "4  Embattled Dobson attacks 'play now, pay later'...   \n",
       "\n",
       "                                               Top22  \\\n",
       "0  Yeltsin's resignation caught opposition flat-f...   \n",
       "1  Campaigners keep up pressure on Nazi war crime...   \n",
       "2                            Al Nassr (Saudi Arabia)   \n",
       "3     Fusco wins judicial review in extradition case   \n",
       "4                                  Doom and the Dome   \n",
       "\n",
       "                             Top23  \\\n",
       "0                 Russian roulette   \n",
       "1                   Jane Ratcliffe   \n",
       "2                Ideal Holmes show   \n",
       "3    Rebels thwart Russian advance   \n",
       "4  What is the north-south divide?   \n",
       "\n",
       "                                               Top24  \\\n",
       "0                                           Sold out   \n",
       "1  Yet more things you wouldn't know without the ...   \n",
       "2               Pinochet leaves hospital after tests   \n",
       "3               Blair orders shake-up of failing NHS   \n",
       "4                          Aitken released from jail   \n",
       "\n",
       "                          Top25  \n",
       "0            Recovering a title  \n",
       "1  Millennium bug fails to bite  \n",
       "2                  Useful links  \n",
       "3   Lessons of law's hard heart  \n",
       "4                    Gone aloft  \n",
       "\n",
       "[5 rows x 25 columns]"
      ]
     },
     "execution_count": 7,
     "metadata": {},
     "output_type": "execute_result"
    }
   ],
   "source": [
    "# set up training data\n",
    "data = train.iloc[:, 2:27]\n",
    "data.head()"
   ]
  },
  {
   "cell_type": "code",
   "execution_count": 8,
   "id": "9c8d147e",
   "metadata": {
    "execution": {
     "iopub.execute_input": "2021-07-18T15:56:16.563621Z",
     "iopub.status.busy": "2021-07-18T15:56:16.562958Z",
     "iopub.status.idle": "2021-07-18T15:56:16.594885Z",
     "shell.execute_reply": "2021-07-18T15:56:16.595414Z",
     "shell.execute_reply.started": "2021-07-18T15:15:21.510737Z"
    },
    "papermill": {
     "duration": 0.069963,
     "end_time": "2021-07-18T15:56:16.595594",
     "exception": false,
     "start_time": "2021-07-18T15:56:16.525631",
     "status": "completed"
    },
    "tags": []
   },
   "outputs": [
    {
     "data": {
      "text/html": [
       "<div>\n",
       "<style scoped>\n",
       "    .dataframe tbody tr th:only-of-type {\n",
       "        vertical-align: middle;\n",
       "    }\n",
       "\n",
       "    .dataframe tbody tr th {\n",
       "        vertical-align: top;\n",
       "    }\n",
       "\n",
       "    .dataframe thead th {\n",
       "        text-align: right;\n",
       "    }\n",
       "</style>\n",
       "<table border=\"1\" class=\"dataframe\">\n",
       "  <thead>\n",
       "    <tr style=\"text-align: right;\">\n",
       "      <th></th>\n",
       "      <th>Top1</th>\n",
       "      <th>Top2</th>\n",
       "      <th>Top3</th>\n",
       "      <th>Top4</th>\n",
       "      <th>Top5</th>\n",
       "      <th>Top6</th>\n",
       "      <th>Top7</th>\n",
       "      <th>Top8</th>\n",
       "      <th>Top9</th>\n",
       "      <th>Top10</th>\n",
       "      <th>...</th>\n",
       "      <th>Top16</th>\n",
       "      <th>Top17</th>\n",
       "      <th>Top18</th>\n",
       "      <th>Top19</th>\n",
       "      <th>Top20</th>\n",
       "      <th>Top21</th>\n",
       "      <th>Top22</th>\n",
       "      <th>Top23</th>\n",
       "      <th>Top24</th>\n",
       "      <th>Top25</th>\n",
       "    </tr>\n",
       "  </thead>\n",
       "  <tbody>\n",
       "    <tr>\n",
       "      <th>0</th>\n",
       "      <td>A 'hindrance to operations': extracts from the...</td>\n",
       "      <td>Scorecard</td>\n",
       "      <td>Hughes' instant hit buoys Blues</td>\n",
       "      <td>Jack gets his skates on at ice-cold Alex</td>\n",
       "      <td>Chaos as Maracana builds up for United</td>\n",
       "      <td>Depleted Leicester prevail as Elliott spoils E...</td>\n",
       "      <td>Hungry Spurs sense rich pickings</td>\n",
       "      <td>Gunners so wide of an easy target</td>\n",
       "      <td>Derby raise a glass to Strupar's debut double</td>\n",
       "      <td>Southgate strikes, Leeds pay the penalty</td>\n",
       "      <td>...</td>\n",
       "      <td>Flintoff injury piles on woe for England</td>\n",
       "      <td>Hunters threaten Jospin with new battle of the...</td>\n",
       "      <td>Kohl's successor drawn into scandal</td>\n",
       "      <td>The difference between men and women</td>\n",
       "      <td>Sara Denver, nurse turned solicitor</td>\n",
       "      <td>Diana's landmine crusade put Tories in a panic</td>\n",
       "      <td>Yeltsin's resignation caught opposition flat-f...</td>\n",
       "      <td>Russian roulette</td>\n",
       "      <td>Sold out</td>\n",
       "      <td>Recovering a title</td>\n",
       "    </tr>\n",
       "    <tr>\n",
       "      <th>1</th>\n",
       "      <td>Scorecard</td>\n",
       "      <td>The best lake scene</td>\n",
       "      <td>Leader: German sleaze inquiry</td>\n",
       "      <td>Cheerio, boyo</td>\n",
       "      <td>The main recommendations</td>\n",
       "      <td>Has Cubie killed fees?</td>\n",
       "      <td>Has Cubie killed fees?</td>\n",
       "      <td>Has Cubie killed fees?</td>\n",
       "      <td>Hopkins 'furious' at Foster's lack of Hannibal...</td>\n",
       "      <td>Has Cubie killed fees?</td>\n",
       "      <td>...</td>\n",
       "      <td>On the critical list</td>\n",
       "      <td>The timing of their lives</td>\n",
       "      <td>Dear doctor</td>\n",
       "      <td>Irish court halts IRA man's extradition to Nor...</td>\n",
       "      <td>Burundi peace initiative fades after rebels re...</td>\n",
       "      <td>PE points the way forward to the ECB</td>\n",
       "      <td>Campaigners keep up pressure on Nazi war crime...</td>\n",
       "      <td>Jane Ratcliffe</td>\n",
       "      <td>Yet more things you wouldn't know without the ...</td>\n",
       "      <td>Millennium bug fails to bite</td>\n",
       "    </tr>\n",
       "    <tr>\n",
       "      <th>2</th>\n",
       "      <td>Coventry caught on counter by Flo</td>\n",
       "      <td>United's rivals on the road to Rio</td>\n",
       "      <td>Thatcher issues defence before trial by video</td>\n",
       "      <td>Police help Smith lay down the law at Everton</td>\n",
       "      <td>Tale of Trautmann bears two more retellings</td>\n",
       "      <td>England on the rack</td>\n",
       "      <td>Pakistan retaliate with call for video of Walsh</td>\n",
       "      <td>Cullinan continues his Cape monopoly</td>\n",
       "      <td>McGrath puts India out of their misery</td>\n",
       "      <td>Blair Witch bandwagon rolls on</td>\n",
       "      <td>...</td>\n",
       "      <td>South Melbourne (Australia)</td>\n",
       "      <td>Necaxa (Mexico)</td>\n",
       "      <td>Real Madrid (Spain)</td>\n",
       "      <td>Raja Casablanca (Morocco)</td>\n",
       "      <td>Corinthians (Brazil)</td>\n",
       "      <td>Tony's pet project</td>\n",
       "      <td>Al Nassr (Saudi Arabia)</td>\n",
       "      <td>Ideal Holmes show</td>\n",
       "      <td>Pinochet leaves hospital after tests</td>\n",
       "      <td>Useful links</td>\n",
       "    </tr>\n",
       "    <tr>\n",
       "      <th>3</th>\n",
       "      <td>Pilgrim knows how to progress</td>\n",
       "      <td>Thatcher facing ban</td>\n",
       "      <td>McIlroy calls for Irish fighting spirit</td>\n",
       "      <td>Leicester bin stadium blueprint</td>\n",
       "      <td>United braced for Mexican wave</td>\n",
       "      <td>Auntie back in fashion, even if the dress look...</td>\n",
       "      <td>Shoaib appeal goes to the top</td>\n",
       "      <td>Hussain hurt by 'shambles' but lays blame on e...</td>\n",
       "      <td>England's decade of disasters</td>\n",
       "      <td>Revenge is sweet for jubilant Cronje</td>\n",
       "      <td>...</td>\n",
       "      <td>Putin admits Yeltsin quit to give him a head s...</td>\n",
       "      <td>BBC worst hit as digital TV begins to bite</td>\n",
       "      <td>How much can you pay for...</td>\n",
       "      <td>Christmas glitches</td>\n",
       "      <td>Upending a table, Chopping a line and Scoring ...</td>\n",
       "      <td>Scientific evidence 'unreliable', defence claims</td>\n",
       "      <td>Fusco wins judicial review in extradition case</td>\n",
       "      <td>Rebels thwart Russian advance</td>\n",
       "      <td>Blair orders shake-up of failing NHS</td>\n",
       "      <td>Lessons of law's hard heart</td>\n",
       "    </tr>\n",
       "    <tr>\n",
       "      <th>4</th>\n",
       "      <td>Hitches and Horlocks</td>\n",
       "      <td>Beckham off but United survive</td>\n",
       "      <td>Breast cancer screening</td>\n",
       "      <td>Alan Parker</td>\n",
       "      <td>Guardian readers: are you all whingers?</td>\n",
       "      <td>Hollywood Beyond</td>\n",
       "      <td>Ashes and diamonds</td>\n",
       "      <td>Whingers - a formidable minority</td>\n",
       "      <td>Alan Parker - part two</td>\n",
       "      <td>Thuggery, Toxins and Ties</td>\n",
       "      <td>...</td>\n",
       "      <td>Most everywhere:  UDIs</td>\n",
       "      <td>Most wanted:  Chloe lunettes</td>\n",
       "      <td>Return of the cane 'completely off the agenda'</td>\n",
       "      <td>From Sleepy Hollow to Greeneland</td>\n",
       "      <td>Blunkett outlines vision for over 11s</td>\n",
       "      <td>Embattled Dobson attacks 'play now, pay later'...</td>\n",
       "      <td>Doom and the Dome</td>\n",
       "      <td>What is the north-south divide?</td>\n",
       "      <td>Aitken released from jail</td>\n",
       "      <td>Gone aloft</td>\n",
       "    </tr>\n",
       "  </tbody>\n",
       "</table>\n",
       "<p>5 rows × 25 columns</p>\n",
       "</div>"
      ],
      "text/plain": [
       "                                                Top1  \\\n",
       "0  A 'hindrance to operations': extracts from the...   \n",
       "1                                          Scorecard   \n",
       "2                  Coventry caught on counter by Flo   \n",
       "3                      Pilgrim knows how to progress   \n",
       "4                               Hitches and Horlocks   \n",
       "\n",
       "                                 Top2  \\\n",
       "0                           Scorecard   \n",
       "1                 The best lake scene   \n",
       "2  United's rivals on the road to Rio   \n",
       "3                 Thatcher facing ban   \n",
       "4      Beckham off but United survive   \n",
       "\n",
       "                                            Top3  \\\n",
       "0                Hughes' instant hit buoys Blues   \n",
       "1                  Leader: German sleaze inquiry   \n",
       "2  Thatcher issues defence before trial by video   \n",
       "3        McIlroy calls for Irish fighting spirit   \n",
       "4                        Breast cancer screening   \n",
       "\n",
       "                                            Top4  \\\n",
       "0       Jack gets his skates on at ice-cold Alex   \n",
       "1                                  Cheerio, boyo   \n",
       "2  Police help Smith lay down the law at Everton   \n",
       "3                Leicester bin stadium blueprint   \n",
       "4                                    Alan Parker   \n",
       "\n",
       "                                          Top5  \\\n",
       "0       Chaos as Maracana builds up for United   \n",
       "1                     The main recommendations   \n",
       "2  Tale of Trautmann bears two more retellings   \n",
       "3               United braced for Mexican wave   \n",
       "4      Guardian readers: are you all whingers?   \n",
       "\n",
       "                                                Top6  \\\n",
       "0  Depleted Leicester prevail as Elliott spoils E...   \n",
       "1                             Has Cubie killed fees?   \n",
       "2                                England on the rack   \n",
       "3  Auntie back in fashion, even if the dress look...   \n",
       "4                                   Hollywood Beyond   \n",
       "\n",
       "                                              Top7  \\\n",
       "0                 Hungry Spurs sense rich pickings   \n",
       "1                           Has Cubie killed fees?   \n",
       "2  Pakistan retaliate with call for video of Walsh   \n",
       "3                    Shoaib appeal goes to the top   \n",
       "4                               Ashes and diamonds   \n",
       "\n",
       "                                                Top8  \\\n",
       "0                  Gunners so wide of an easy target   \n",
       "1                             Has Cubie killed fees?   \n",
       "2               Cullinan continues his Cape monopoly   \n",
       "3  Hussain hurt by 'shambles' but lays blame on e...   \n",
       "4                   Whingers - a formidable minority   \n",
       "\n",
       "                                                Top9  \\\n",
       "0      Derby raise a glass to Strupar's debut double   \n",
       "1  Hopkins 'furious' at Foster's lack of Hannibal...   \n",
       "2             McGrath puts India out of their misery   \n",
       "3                      England's decade of disasters   \n",
       "4                             Alan Parker - part two   \n",
       "\n",
       "                                      Top10  ...  \\\n",
       "0  Southgate strikes, Leeds pay the penalty  ...   \n",
       "1                    Has Cubie killed fees?  ...   \n",
       "2            Blair Witch bandwagon rolls on  ...   \n",
       "3      Revenge is sweet for jubilant Cronje  ...   \n",
       "4                 Thuggery, Toxins and Ties  ...   \n",
       "\n",
       "                                               Top16  \\\n",
       "0           Flintoff injury piles on woe for England   \n",
       "1                               On the critical list   \n",
       "2                        South Melbourne (Australia)   \n",
       "3  Putin admits Yeltsin quit to give him a head s...   \n",
       "4                             Most everywhere:  UDIs   \n",
       "\n",
       "                                               Top17  \\\n",
       "0  Hunters threaten Jospin with new battle of the...   \n",
       "1                          The timing of their lives   \n",
       "2                                    Necaxa (Mexico)   \n",
       "3         BBC worst hit as digital TV begins to bite   \n",
       "4                       Most wanted:  Chloe lunettes   \n",
       "\n",
       "                                            Top18  \\\n",
       "0             Kohl's successor drawn into scandal   \n",
       "1                                     Dear doctor   \n",
       "2                             Real Madrid (Spain)   \n",
       "3                     How much can you pay for...   \n",
       "4  Return of the cane 'completely off the agenda'   \n",
       "\n",
       "                                               Top19  \\\n",
       "0               The difference between men and women   \n",
       "1  Irish court halts IRA man's extradition to Nor...   \n",
       "2                          Raja Casablanca (Morocco)   \n",
       "3                                 Christmas glitches   \n",
       "4                   From Sleepy Hollow to Greeneland   \n",
       "\n",
       "                                               Top20  \\\n",
       "0                Sara Denver, nurse turned solicitor   \n",
       "1  Burundi peace initiative fades after rebels re...   \n",
       "2                               Corinthians (Brazil)   \n",
       "3  Upending a table, Chopping a line and Scoring ...   \n",
       "4              Blunkett outlines vision for over 11s   \n",
       "\n",
       "                                               Top21  \\\n",
       "0     Diana's landmine crusade put Tories in a panic   \n",
       "1               PE points the way forward to the ECB   \n",
       "2                                 Tony's pet project   \n",
       "3   Scientific evidence 'unreliable', defence claims   \n",
       "4  Embattled Dobson attacks 'play now, pay later'...   \n",
       "\n",
       "                                               Top22  \\\n",
       "0  Yeltsin's resignation caught opposition flat-f...   \n",
       "1  Campaigners keep up pressure on Nazi war crime...   \n",
       "2                            Al Nassr (Saudi Arabia)   \n",
       "3     Fusco wins judicial review in extradition case   \n",
       "4                                  Doom and the Dome   \n",
       "\n",
       "                             Top23  \\\n",
       "0                 Russian roulette   \n",
       "1                   Jane Ratcliffe   \n",
       "2                Ideal Holmes show   \n",
       "3    Rebels thwart Russian advance   \n",
       "4  What is the north-south divide?   \n",
       "\n",
       "                                               Top24  \\\n",
       "0                                           Sold out   \n",
       "1  Yet more things you wouldn't know without the ...   \n",
       "2               Pinochet leaves hospital after tests   \n",
       "3               Blair orders shake-up of failing NHS   \n",
       "4                          Aitken released from jail   \n",
       "\n",
       "                          Top25  \n",
       "0            Recovering a title  \n",
       "1  Millennium bug fails to bite  \n",
       "2                  Useful links  \n",
       "3   Lessons of law's hard heart  \n",
       "4                    Gone aloft  \n",
       "\n",
       "[5 rows x 25 columns]"
      ]
     },
     "execution_count": 8,
     "metadata": {},
     "output_type": "execute_result"
    }
   ],
   "source": [
    "data.replace('[^a-zA-Z]', ' ', inplace=True) # remove special characters\n",
    "data.head()"
   ]
  },
  {
   "cell_type": "code",
   "execution_count": 9,
   "id": "60ff947e",
   "metadata": {
    "execution": {
     "iopub.execute_input": "2021-07-18T15:56:16.671338Z",
     "iopub.status.busy": "2021-07-18T15:56:16.670717Z",
     "iopub.status.idle": "2021-07-18T15:56:16.676392Z",
     "shell.execute_reply": "2021-07-18T15:56:16.676900Z",
     "shell.execute_reply.started": "2021-07-18T15:15:21.556162Z"
    },
    "papermill": {
     "duration": 0.044662,
     "end_time": "2021-07-18T15:56:16.677069",
     "exception": false,
     "start_time": "2021-07-18T15:56:16.632407",
     "status": "completed"
    },
    "tags": []
   },
   "outputs": [
    {
     "data": {
      "text/plain": [
       "Index(['Top1', 'Top2', 'Top3', 'Top4', 'Top5', 'Top6', 'Top7', 'Top8', 'Top9',\n",
       "       'Top10', 'Top11', 'Top12', 'Top13', 'Top14', 'Top15', 'Top16', 'Top17',\n",
       "       'Top18', 'Top19', 'Top20', 'Top21', 'Top22', 'Top23', 'Top24', 'Top25'],\n",
       "      dtype='object')"
      ]
     },
     "execution_count": 9,
     "metadata": {},
     "output_type": "execute_result"
    }
   ],
   "source": [
    "data.columns"
   ]
  },
  {
   "cell_type": "code",
   "execution_count": 10,
   "id": "1161166c",
   "metadata": {
    "execution": {
     "iopub.execute_input": "2021-07-18T15:56:16.752625Z",
     "iopub.status.busy": "2021-07-18T15:56:16.751998Z",
     "iopub.status.idle": "2021-07-18T15:56:16.779743Z",
     "shell.execute_reply": "2021-07-18T15:56:16.780427Z",
     "shell.execute_reply.started": "2021-07-18T15:15:21.575135Z"
    },
    "papermill": {
     "duration": 0.067372,
     "end_time": "2021-07-18T15:56:16.780634",
     "exception": false,
     "start_time": "2021-07-18T15:56:16.713262",
     "status": "completed"
    },
    "tags": []
   },
   "outputs": [
    {
     "data": {
      "text/html": [
       "<div>\n",
       "<style scoped>\n",
       "    .dataframe tbody tr th:only-of-type {\n",
       "        vertical-align: middle;\n",
       "    }\n",
       "\n",
       "    .dataframe tbody tr th {\n",
       "        vertical-align: top;\n",
       "    }\n",
       "\n",
       "    .dataframe thead th {\n",
       "        text-align: right;\n",
       "    }\n",
       "</style>\n",
       "<table border=\"1\" class=\"dataframe\">\n",
       "  <thead>\n",
       "    <tr style=\"text-align: right;\">\n",
       "      <th></th>\n",
       "      <th>0</th>\n",
       "      <th>1</th>\n",
       "      <th>2</th>\n",
       "      <th>3</th>\n",
       "      <th>4</th>\n",
       "      <th>5</th>\n",
       "      <th>6</th>\n",
       "      <th>7</th>\n",
       "      <th>8</th>\n",
       "      <th>9</th>\n",
       "      <th>...</th>\n",
       "      <th>15</th>\n",
       "      <th>16</th>\n",
       "      <th>17</th>\n",
       "      <th>18</th>\n",
       "      <th>19</th>\n",
       "      <th>20</th>\n",
       "      <th>21</th>\n",
       "      <th>22</th>\n",
       "      <th>23</th>\n",
       "      <th>24</th>\n",
       "    </tr>\n",
       "  </thead>\n",
       "  <tbody>\n",
       "    <tr>\n",
       "      <th>0</th>\n",
       "      <td>A 'hindrance to operations': extracts from the...</td>\n",
       "      <td>Scorecard</td>\n",
       "      <td>Hughes' instant hit buoys Blues</td>\n",
       "      <td>Jack gets his skates on at ice-cold Alex</td>\n",
       "      <td>Chaos as Maracana builds up for United</td>\n",
       "      <td>Depleted Leicester prevail as Elliott spoils E...</td>\n",
       "      <td>Hungry Spurs sense rich pickings</td>\n",
       "      <td>Gunners so wide of an easy target</td>\n",
       "      <td>Derby raise a glass to Strupar's debut double</td>\n",
       "      <td>Southgate strikes, Leeds pay the penalty</td>\n",
       "      <td>...</td>\n",
       "      <td>Flintoff injury piles on woe for England</td>\n",
       "      <td>Hunters threaten Jospin with new battle of the...</td>\n",
       "      <td>Kohl's successor drawn into scandal</td>\n",
       "      <td>The difference between men and women</td>\n",
       "      <td>Sara Denver, nurse turned solicitor</td>\n",
       "      <td>Diana's landmine crusade put Tories in a panic</td>\n",
       "      <td>Yeltsin's resignation caught opposition flat-f...</td>\n",
       "      <td>Russian roulette</td>\n",
       "      <td>Sold out</td>\n",
       "      <td>Recovering a title</td>\n",
       "    </tr>\n",
       "    <tr>\n",
       "      <th>1</th>\n",
       "      <td>Scorecard</td>\n",
       "      <td>The best lake scene</td>\n",
       "      <td>Leader: German sleaze inquiry</td>\n",
       "      <td>Cheerio, boyo</td>\n",
       "      <td>The main recommendations</td>\n",
       "      <td>Has Cubie killed fees?</td>\n",
       "      <td>Has Cubie killed fees?</td>\n",
       "      <td>Has Cubie killed fees?</td>\n",
       "      <td>Hopkins 'furious' at Foster's lack of Hannibal...</td>\n",
       "      <td>Has Cubie killed fees?</td>\n",
       "      <td>...</td>\n",
       "      <td>On the critical list</td>\n",
       "      <td>The timing of their lives</td>\n",
       "      <td>Dear doctor</td>\n",
       "      <td>Irish court halts IRA man's extradition to Nor...</td>\n",
       "      <td>Burundi peace initiative fades after rebels re...</td>\n",
       "      <td>PE points the way forward to the ECB</td>\n",
       "      <td>Campaigners keep up pressure on Nazi war crime...</td>\n",
       "      <td>Jane Ratcliffe</td>\n",
       "      <td>Yet more things you wouldn't know without the ...</td>\n",
       "      <td>Millennium bug fails to bite</td>\n",
       "    </tr>\n",
       "    <tr>\n",
       "      <th>2</th>\n",
       "      <td>Coventry caught on counter by Flo</td>\n",
       "      <td>United's rivals on the road to Rio</td>\n",
       "      <td>Thatcher issues defence before trial by video</td>\n",
       "      <td>Police help Smith lay down the law at Everton</td>\n",
       "      <td>Tale of Trautmann bears two more retellings</td>\n",
       "      <td>England on the rack</td>\n",
       "      <td>Pakistan retaliate with call for video of Walsh</td>\n",
       "      <td>Cullinan continues his Cape monopoly</td>\n",
       "      <td>McGrath puts India out of their misery</td>\n",
       "      <td>Blair Witch bandwagon rolls on</td>\n",
       "      <td>...</td>\n",
       "      <td>South Melbourne (Australia)</td>\n",
       "      <td>Necaxa (Mexico)</td>\n",
       "      <td>Real Madrid (Spain)</td>\n",
       "      <td>Raja Casablanca (Morocco)</td>\n",
       "      <td>Corinthians (Brazil)</td>\n",
       "      <td>Tony's pet project</td>\n",
       "      <td>Al Nassr (Saudi Arabia)</td>\n",
       "      <td>Ideal Holmes show</td>\n",
       "      <td>Pinochet leaves hospital after tests</td>\n",
       "      <td>Useful links</td>\n",
       "    </tr>\n",
       "    <tr>\n",
       "      <th>3</th>\n",
       "      <td>Pilgrim knows how to progress</td>\n",
       "      <td>Thatcher facing ban</td>\n",
       "      <td>McIlroy calls for Irish fighting spirit</td>\n",
       "      <td>Leicester bin stadium blueprint</td>\n",
       "      <td>United braced for Mexican wave</td>\n",
       "      <td>Auntie back in fashion, even if the dress look...</td>\n",
       "      <td>Shoaib appeal goes to the top</td>\n",
       "      <td>Hussain hurt by 'shambles' but lays blame on e...</td>\n",
       "      <td>England's decade of disasters</td>\n",
       "      <td>Revenge is sweet for jubilant Cronje</td>\n",
       "      <td>...</td>\n",
       "      <td>Putin admits Yeltsin quit to give him a head s...</td>\n",
       "      <td>BBC worst hit as digital TV begins to bite</td>\n",
       "      <td>How much can you pay for...</td>\n",
       "      <td>Christmas glitches</td>\n",
       "      <td>Upending a table, Chopping a line and Scoring ...</td>\n",
       "      <td>Scientific evidence 'unreliable', defence claims</td>\n",
       "      <td>Fusco wins judicial review in extradition case</td>\n",
       "      <td>Rebels thwart Russian advance</td>\n",
       "      <td>Blair orders shake-up of failing NHS</td>\n",
       "      <td>Lessons of law's hard heart</td>\n",
       "    </tr>\n",
       "    <tr>\n",
       "      <th>4</th>\n",
       "      <td>Hitches and Horlocks</td>\n",
       "      <td>Beckham off but United survive</td>\n",
       "      <td>Breast cancer screening</td>\n",
       "      <td>Alan Parker</td>\n",
       "      <td>Guardian readers: are you all whingers?</td>\n",
       "      <td>Hollywood Beyond</td>\n",
       "      <td>Ashes and diamonds</td>\n",
       "      <td>Whingers - a formidable minority</td>\n",
       "      <td>Alan Parker - part two</td>\n",
       "      <td>Thuggery, Toxins and Ties</td>\n",
       "      <td>...</td>\n",
       "      <td>Most everywhere:  UDIs</td>\n",
       "      <td>Most wanted:  Chloe lunettes</td>\n",
       "      <td>Return of the cane 'completely off the agenda'</td>\n",
       "      <td>From Sleepy Hollow to Greeneland</td>\n",
       "      <td>Blunkett outlines vision for over 11s</td>\n",
       "      <td>Embattled Dobson attacks 'play now, pay later'...</td>\n",
       "      <td>Doom and the Dome</td>\n",
       "      <td>What is the north-south divide?</td>\n",
       "      <td>Aitken released from jail</td>\n",
       "      <td>Gone aloft</td>\n",
       "    </tr>\n",
       "  </tbody>\n",
       "</table>\n",
       "<p>5 rows × 25 columns</p>\n",
       "</div>"
      ],
      "text/plain": [
       "                                                   0  \\\n",
       "0  A 'hindrance to operations': extracts from the...   \n",
       "1                                          Scorecard   \n",
       "2                  Coventry caught on counter by Flo   \n",
       "3                      Pilgrim knows how to progress   \n",
       "4                               Hitches and Horlocks   \n",
       "\n",
       "                                    1  \\\n",
       "0                           Scorecard   \n",
       "1                 The best lake scene   \n",
       "2  United's rivals on the road to Rio   \n",
       "3                 Thatcher facing ban   \n",
       "4      Beckham off but United survive   \n",
       "\n",
       "                                               2  \\\n",
       "0                Hughes' instant hit buoys Blues   \n",
       "1                  Leader: German sleaze inquiry   \n",
       "2  Thatcher issues defence before trial by video   \n",
       "3        McIlroy calls for Irish fighting spirit   \n",
       "4                        Breast cancer screening   \n",
       "\n",
       "                                               3  \\\n",
       "0       Jack gets his skates on at ice-cold Alex   \n",
       "1                                  Cheerio, boyo   \n",
       "2  Police help Smith lay down the law at Everton   \n",
       "3                Leicester bin stadium blueprint   \n",
       "4                                    Alan Parker   \n",
       "\n",
       "                                             4  \\\n",
       "0       Chaos as Maracana builds up for United   \n",
       "1                     The main recommendations   \n",
       "2  Tale of Trautmann bears two more retellings   \n",
       "3               United braced for Mexican wave   \n",
       "4      Guardian readers: are you all whingers?   \n",
       "\n",
       "                                                   5  \\\n",
       "0  Depleted Leicester prevail as Elliott spoils E...   \n",
       "1                             Has Cubie killed fees?   \n",
       "2                                England on the rack   \n",
       "3  Auntie back in fashion, even if the dress look...   \n",
       "4                                   Hollywood Beyond   \n",
       "\n",
       "                                                 6  \\\n",
       "0                 Hungry Spurs sense rich pickings   \n",
       "1                           Has Cubie killed fees?   \n",
       "2  Pakistan retaliate with call for video of Walsh   \n",
       "3                    Shoaib appeal goes to the top   \n",
       "4                               Ashes and diamonds   \n",
       "\n",
       "                                                   7  \\\n",
       "0                  Gunners so wide of an easy target   \n",
       "1                             Has Cubie killed fees?   \n",
       "2               Cullinan continues his Cape monopoly   \n",
       "3  Hussain hurt by 'shambles' but lays blame on e...   \n",
       "4                   Whingers - a formidable minority   \n",
       "\n",
       "                                                   8  \\\n",
       "0      Derby raise a glass to Strupar's debut double   \n",
       "1  Hopkins 'furious' at Foster's lack of Hannibal...   \n",
       "2             McGrath puts India out of their misery   \n",
       "3                      England's decade of disasters   \n",
       "4                             Alan Parker - part two   \n",
       "\n",
       "                                          9  ...  \\\n",
       "0  Southgate strikes, Leeds pay the penalty  ...   \n",
       "1                    Has Cubie killed fees?  ...   \n",
       "2            Blair Witch bandwagon rolls on  ...   \n",
       "3      Revenge is sweet for jubilant Cronje  ...   \n",
       "4                 Thuggery, Toxins and Ties  ...   \n",
       "\n",
       "                                                  15  \\\n",
       "0           Flintoff injury piles on woe for England   \n",
       "1                               On the critical list   \n",
       "2                        South Melbourne (Australia)   \n",
       "3  Putin admits Yeltsin quit to give him a head s...   \n",
       "4                             Most everywhere:  UDIs   \n",
       "\n",
       "                                                  16  \\\n",
       "0  Hunters threaten Jospin with new battle of the...   \n",
       "1                          The timing of their lives   \n",
       "2                                    Necaxa (Mexico)   \n",
       "3         BBC worst hit as digital TV begins to bite   \n",
       "4                       Most wanted:  Chloe lunettes   \n",
       "\n",
       "                                               17  \\\n",
       "0             Kohl's successor drawn into scandal   \n",
       "1                                     Dear doctor   \n",
       "2                             Real Madrid (Spain)   \n",
       "3                     How much can you pay for...   \n",
       "4  Return of the cane 'completely off the agenda'   \n",
       "\n",
       "                                                  18  \\\n",
       "0               The difference between men and women   \n",
       "1  Irish court halts IRA man's extradition to Nor...   \n",
       "2                          Raja Casablanca (Morocco)   \n",
       "3                                 Christmas glitches   \n",
       "4                   From Sleepy Hollow to Greeneland   \n",
       "\n",
       "                                                  19  \\\n",
       "0                Sara Denver, nurse turned solicitor   \n",
       "1  Burundi peace initiative fades after rebels re...   \n",
       "2                               Corinthians (Brazil)   \n",
       "3  Upending a table, Chopping a line and Scoring ...   \n",
       "4              Blunkett outlines vision for over 11s   \n",
       "\n",
       "                                                  20  \\\n",
       "0     Diana's landmine crusade put Tories in a panic   \n",
       "1               PE points the way forward to the ECB   \n",
       "2                                 Tony's pet project   \n",
       "3   Scientific evidence 'unreliable', defence claims   \n",
       "4  Embattled Dobson attacks 'play now, pay later'...   \n",
       "\n",
       "                                                  21  \\\n",
       "0  Yeltsin's resignation caught opposition flat-f...   \n",
       "1  Campaigners keep up pressure on Nazi war crime...   \n",
       "2                            Al Nassr (Saudi Arabia)   \n",
       "3     Fusco wins judicial review in extradition case   \n",
       "4                                  Doom and the Dome   \n",
       "\n",
       "                                22  \\\n",
       "0                 Russian roulette   \n",
       "1                   Jane Ratcliffe   \n",
       "2                Ideal Holmes show   \n",
       "3    Rebels thwart Russian advance   \n",
       "4  What is the north-south divide?   \n",
       "\n",
       "                                                  23  \\\n",
       "0                                           Sold out   \n",
       "1  Yet more things you wouldn't know without the ...   \n",
       "2               Pinochet leaves hospital after tests   \n",
       "3               Blair orders shake-up of failing NHS   \n",
       "4                          Aitken released from jail   \n",
       "\n",
       "                             24  \n",
       "0            Recovering a title  \n",
       "1  Millennium bug fails to bite  \n",
       "2                  Useful links  \n",
       "3   Lessons of law's hard heart  \n",
       "4                    Gone aloft  \n",
       "\n",
       "[5 rows x 25 columns]"
      ]
     },
     "execution_count": 10,
     "metadata": {},
     "output_type": "execute_result"
    }
   ],
   "source": [
    "# update columns name\n",
    "new_index = [str(i) for i in range(25)]\n",
    "data.columns = new_index\n",
    "data.head()"
   ]
  },
  {
   "cell_type": "code",
   "execution_count": 11,
   "id": "ff6a8003",
   "metadata": {
    "execution": {
     "iopub.execute_input": "2021-07-18T15:56:16.862075Z",
     "iopub.status.busy": "2021-07-18T15:56:16.861434Z",
     "iopub.status.idle": "2021-07-18T15:56:16.866220Z",
     "shell.execute_reply": "2021-07-18T15:56:16.866750Z",
     "shell.execute_reply.started": "2021-07-18T15:15:21.618528Z"
    },
    "papermill": {
     "duration": 0.048473,
     "end_time": "2021-07-18T15:56:16.866923",
     "exception": false,
     "start_time": "2021-07-18T15:56:16.818450",
     "status": "completed"
    },
    "tags": []
   },
   "outputs": [
    {
     "data": {
      "text/plain": [
       "Int64Index([   0,    1,    2,    3,    4,    5,    6,    7,    8,    9,\n",
       "            ...\n",
       "            3965, 3966, 3967, 3968, 3969, 3970, 3971, 3972, 3973, 3974],\n",
       "           dtype='int64', length=3975)"
      ]
     },
     "execution_count": 11,
     "metadata": {},
     "output_type": "execute_result"
    }
   ],
   "source": [
    "data.index"
   ]
  },
  {
   "cell_type": "code",
   "execution_count": 12,
   "id": "cadad074",
   "metadata": {
    "execution": {
     "iopub.execute_input": "2021-07-18T15:56:16.952507Z",
     "iopub.status.busy": "2021-07-18T15:56:16.951830Z",
     "iopub.status.idle": "2021-07-18T15:56:16.954666Z",
     "shell.execute_reply": "2021-07-18T15:56:16.955231Z",
     "shell.execute_reply.started": "2021-07-18T15:15:21.641243Z"
    },
    "papermill": {
     "duration": 0.049964,
     "end_time": "2021-07-18T15:56:16.955409",
     "exception": false,
     "start_time": "2021-07-18T15:56:16.905445",
     "status": "completed"
    },
    "tags": []
   },
   "outputs": [
    {
     "data": {
      "text/plain": [
       "0       A 'hindrance to operations': extracts from the...\n",
       "1                                               Scorecard\n",
       "2                       Coventry caught on counter by Flo\n",
       "3                           Pilgrim knows how to progress\n",
       "4                                    Hitches and Horlocks\n",
       "                              ...                        \n",
       "3970    Brazil declares emergency after 2,400 babies a...\n",
       "3971    Germany recruits 8,500 teachers to teach Germa...\n",
       "3972    Pentagon thwarts Obama's effort to close Guant...\n",
       "3973    Tech companies face criminal charges if they n...\n",
       "3974    Microsoft Corp said on Wednesday it will begin...\n",
       "Name: 0, Length: 3975, dtype: object"
      ]
     },
     "execution_count": 12,
     "metadata": {},
     "output_type": "execute_result"
    }
   ],
   "source": [
    "data['0']"
   ]
  },
  {
   "cell_type": "code",
   "execution_count": 13,
   "id": "0f809d20",
   "metadata": {
    "execution": {
     "iopub.execute_input": "2021-07-18T15:56:17.034866Z",
     "iopub.status.busy": "2021-07-18T15:56:17.034110Z",
     "iopub.status.idle": "2021-07-18T15:56:17.143129Z",
     "shell.execute_reply": "2021-07-18T15:56:17.143617Z",
     "shell.execute_reply.started": "2021-07-18T15:15:21.667831Z"
    },
    "papermill": {
     "duration": 0.150107,
     "end_time": "2021-07-18T15:56:17.143794",
     "exception": false,
     "start_time": "2021-07-18T15:56:16.993687",
     "status": "completed"
    },
    "tags": []
   },
   "outputs": [
    {
     "data": {
      "text/html": [
       "<div>\n",
       "<style scoped>\n",
       "    .dataframe tbody tr th:only-of-type {\n",
       "        vertical-align: middle;\n",
       "    }\n",
       "\n",
       "    .dataframe tbody tr th {\n",
       "        vertical-align: top;\n",
       "    }\n",
       "\n",
       "    .dataframe thead th {\n",
       "        text-align: right;\n",
       "    }\n",
       "</style>\n",
       "<table border=\"1\" class=\"dataframe\">\n",
       "  <thead>\n",
       "    <tr style=\"text-align: right;\">\n",
       "      <th></th>\n",
       "      <th>0</th>\n",
       "      <th>1</th>\n",
       "      <th>2</th>\n",
       "      <th>3</th>\n",
       "      <th>4</th>\n",
       "      <th>5</th>\n",
       "      <th>6</th>\n",
       "      <th>7</th>\n",
       "      <th>8</th>\n",
       "      <th>9</th>\n",
       "      <th>...</th>\n",
       "      <th>15</th>\n",
       "      <th>16</th>\n",
       "      <th>17</th>\n",
       "      <th>18</th>\n",
       "      <th>19</th>\n",
       "      <th>20</th>\n",
       "      <th>21</th>\n",
       "      <th>22</th>\n",
       "      <th>23</th>\n",
       "      <th>24</th>\n",
       "    </tr>\n",
       "  </thead>\n",
       "  <tbody>\n",
       "    <tr>\n",
       "      <th>0</th>\n",
       "      <td>a 'hindrance to operations': extracts from the...</td>\n",
       "      <td>scorecard</td>\n",
       "      <td>hughes' instant hit buoys blues</td>\n",
       "      <td>jack gets his skates on at ice-cold alex</td>\n",
       "      <td>chaos as maracana builds up for united</td>\n",
       "      <td>depleted leicester prevail as elliott spoils e...</td>\n",
       "      <td>hungry spurs sense rich pickings</td>\n",
       "      <td>gunners so wide of an easy target</td>\n",
       "      <td>derby raise a glass to strupar's debut double</td>\n",
       "      <td>southgate strikes, leeds pay the penalty</td>\n",
       "      <td>...</td>\n",
       "      <td>flintoff injury piles on woe for england</td>\n",
       "      <td>hunters threaten jospin with new battle of the...</td>\n",
       "      <td>kohl's successor drawn into scandal</td>\n",
       "      <td>the difference between men and women</td>\n",
       "      <td>sara denver, nurse turned solicitor</td>\n",
       "      <td>diana's landmine crusade put tories in a panic</td>\n",
       "      <td>yeltsin's resignation caught opposition flat-f...</td>\n",
       "      <td>russian roulette</td>\n",
       "      <td>sold out</td>\n",
       "      <td>recovering a title</td>\n",
       "    </tr>\n",
       "    <tr>\n",
       "      <th>1</th>\n",
       "      <td>scorecard</td>\n",
       "      <td>the best lake scene</td>\n",
       "      <td>leader: german sleaze inquiry</td>\n",
       "      <td>cheerio, boyo</td>\n",
       "      <td>the main recommendations</td>\n",
       "      <td>has cubie killed fees?</td>\n",
       "      <td>has cubie killed fees?</td>\n",
       "      <td>has cubie killed fees?</td>\n",
       "      <td>hopkins 'furious' at foster's lack of hannibal...</td>\n",
       "      <td>has cubie killed fees?</td>\n",
       "      <td>...</td>\n",
       "      <td>on the critical list</td>\n",
       "      <td>the timing of their lives</td>\n",
       "      <td>dear doctor</td>\n",
       "      <td>irish court halts ira man's extradition to nor...</td>\n",
       "      <td>burundi peace initiative fades after rebels re...</td>\n",
       "      <td>pe points the way forward to the ecb</td>\n",
       "      <td>campaigners keep up pressure on nazi war crime...</td>\n",
       "      <td>jane ratcliffe</td>\n",
       "      <td>yet more things you wouldn't know without the ...</td>\n",
       "      <td>millennium bug fails to bite</td>\n",
       "    </tr>\n",
       "    <tr>\n",
       "      <th>2</th>\n",
       "      <td>coventry caught on counter by flo</td>\n",
       "      <td>united's rivals on the road to rio</td>\n",
       "      <td>thatcher issues defence before trial by video</td>\n",
       "      <td>police help smith lay down the law at everton</td>\n",
       "      <td>tale of trautmann bears two more retellings</td>\n",
       "      <td>england on the rack</td>\n",
       "      <td>pakistan retaliate with call for video of walsh</td>\n",
       "      <td>cullinan continues his cape monopoly</td>\n",
       "      <td>mcgrath puts india out of their misery</td>\n",
       "      <td>blair witch bandwagon rolls on</td>\n",
       "      <td>...</td>\n",
       "      <td>south melbourne (australia)</td>\n",
       "      <td>necaxa (mexico)</td>\n",
       "      <td>real madrid (spain)</td>\n",
       "      <td>raja casablanca (morocco)</td>\n",
       "      <td>corinthians (brazil)</td>\n",
       "      <td>tony's pet project</td>\n",
       "      <td>al nassr (saudi arabia)</td>\n",
       "      <td>ideal holmes show</td>\n",
       "      <td>pinochet leaves hospital after tests</td>\n",
       "      <td>useful links</td>\n",
       "    </tr>\n",
       "    <tr>\n",
       "      <th>3</th>\n",
       "      <td>pilgrim knows how to progress</td>\n",
       "      <td>thatcher facing ban</td>\n",
       "      <td>mcilroy calls for irish fighting spirit</td>\n",
       "      <td>leicester bin stadium blueprint</td>\n",
       "      <td>united braced for mexican wave</td>\n",
       "      <td>auntie back in fashion, even if the dress look...</td>\n",
       "      <td>shoaib appeal goes to the top</td>\n",
       "      <td>hussain hurt by 'shambles' but lays blame on e...</td>\n",
       "      <td>england's decade of disasters</td>\n",
       "      <td>revenge is sweet for jubilant cronje</td>\n",
       "      <td>...</td>\n",
       "      <td>putin admits yeltsin quit to give him a head s...</td>\n",
       "      <td>bbc worst hit as digital tv begins to bite</td>\n",
       "      <td>how much can you pay for...</td>\n",
       "      <td>christmas glitches</td>\n",
       "      <td>upending a table, chopping a line and scoring ...</td>\n",
       "      <td>scientific evidence 'unreliable', defence claims</td>\n",
       "      <td>fusco wins judicial review in extradition case</td>\n",
       "      <td>rebels thwart russian advance</td>\n",
       "      <td>blair orders shake-up of failing nhs</td>\n",
       "      <td>lessons of law's hard heart</td>\n",
       "    </tr>\n",
       "    <tr>\n",
       "      <th>4</th>\n",
       "      <td>hitches and horlocks</td>\n",
       "      <td>beckham off but united survive</td>\n",
       "      <td>breast cancer screening</td>\n",
       "      <td>alan parker</td>\n",
       "      <td>guardian readers: are you all whingers?</td>\n",
       "      <td>hollywood beyond</td>\n",
       "      <td>ashes and diamonds</td>\n",
       "      <td>whingers - a formidable minority</td>\n",
       "      <td>alan parker - part two</td>\n",
       "      <td>thuggery, toxins and ties</td>\n",
       "      <td>...</td>\n",
       "      <td>most everywhere:  udis</td>\n",
       "      <td>most wanted:  chloe lunettes</td>\n",
       "      <td>return of the cane 'completely off the agenda'</td>\n",
       "      <td>from sleepy hollow to greeneland</td>\n",
       "      <td>blunkett outlines vision for over 11s</td>\n",
       "      <td>embattled dobson attacks 'play now, pay later'...</td>\n",
       "      <td>doom and the dome</td>\n",
       "      <td>what is the north-south divide?</td>\n",
       "      <td>aitken released from jail</td>\n",
       "      <td>gone aloft</td>\n",
       "    </tr>\n",
       "  </tbody>\n",
       "</table>\n",
       "<p>5 rows × 25 columns</p>\n",
       "</div>"
      ],
      "text/plain": [
       "                                                   0  \\\n",
       "0  a 'hindrance to operations': extracts from the...   \n",
       "1                                          scorecard   \n",
       "2                  coventry caught on counter by flo   \n",
       "3                      pilgrim knows how to progress   \n",
       "4                               hitches and horlocks   \n",
       "\n",
       "                                    1  \\\n",
       "0                           scorecard   \n",
       "1                 the best lake scene   \n",
       "2  united's rivals on the road to rio   \n",
       "3                 thatcher facing ban   \n",
       "4      beckham off but united survive   \n",
       "\n",
       "                                               2  \\\n",
       "0                hughes' instant hit buoys blues   \n",
       "1                  leader: german sleaze inquiry   \n",
       "2  thatcher issues defence before trial by video   \n",
       "3        mcilroy calls for irish fighting spirit   \n",
       "4                        breast cancer screening   \n",
       "\n",
       "                                               3  \\\n",
       "0       jack gets his skates on at ice-cold alex   \n",
       "1                                  cheerio, boyo   \n",
       "2  police help smith lay down the law at everton   \n",
       "3                leicester bin stadium blueprint   \n",
       "4                                    alan parker   \n",
       "\n",
       "                                             4  \\\n",
       "0       chaos as maracana builds up for united   \n",
       "1                     the main recommendations   \n",
       "2  tale of trautmann bears two more retellings   \n",
       "3               united braced for mexican wave   \n",
       "4      guardian readers: are you all whingers?   \n",
       "\n",
       "                                                   5  \\\n",
       "0  depleted leicester prevail as elliott spoils e...   \n",
       "1                             has cubie killed fees?   \n",
       "2                                england on the rack   \n",
       "3  auntie back in fashion, even if the dress look...   \n",
       "4                                   hollywood beyond   \n",
       "\n",
       "                                                 6  \\\n",
       "0                 hungry spurs sense rich pickings   \n",
       "1                           has cubie killed fees?   \n",
       "2  pakistan retaliate with call for video of walsh   \n",
       "3                    shoaib appeal goes to the top   \n",
       "4                               ashes and diamonds   \n",
       "\n",
       "                                                   7  \\\n",
       "0                  gunners so wide of an easy target   \n",
       "1                             has cubie killed fees?   \n",
       "2               cullinan continues his cape monopoly   \n",
       "3  hussain hurt by 'shambles' but lays blame on e...   \n",
       "4                   whingers - a formidable minority   \n",
       "\n",
       "                                                   8  \\\n",
       "0      derby raise a glass to strupar's debut double   \n",
       "1  hopkins 'furious' at foster's lack of hannibal...   \n",
       "2             mcgrath puts india out of their misery   \n",
       "3                      england's decade of disasters   \n",
       "4                             alan parker - part two   \n",
       "\n",
       "                                          9  ...  \\\n",
       "0  southgate strikes, leeds pay the penalty  ...   \n",
       "1                    has cubie killed fees?  ...   \n",
       "2            blair witch bandwagon rolls on  ...   \n",
       "3      revenge is sweet for jubilant cronje  ...   \n",
       "4                 thuggery, toxins and ties  ...   \n",
       "\n",
       "                                                  15  \\\n",
       "0           flintoff injury piles on woe for england   \n",
       "1                               on the critical list   \n",
       "2                        south melbourne (australia)   \n",
       "3  putin admits yeltsin quit to give him a head s...   \n",
       "4                             most everywhere:  udis   \n",
       "\n",
       "                                                  16  \\\n",
       "0  hunters threaten jospin with new battle of the...   \n",
       "1                          the timing of their lives   \n",
       "2                                    necaxa (mexico)   \n",
       "3         bbc worst hit as digital tv begins to bite   \n",
       "4                       most wanted:  chloe lunettes   \n",
       "\n",
       "                                               17  \\\n",
       "0             kohl's successor drawn into scandal   \n",
       "1                                     dear doctor   \n",
       "2                             real madrid (spain)   \n",
       "3                     how much can you pay for...   \n",
       "4  return of the cane 'completely off the agenda'   \n",
       "\n",
       "                                                  18  \\\n",
       "0               the difference between men and women   \n",
       "1  irish court halts ira man's extradition to nor...   \n",
       "2                          raja casablanca (morocco)   \n",
       "3                                 christmas glitches   \n",
       "4                   from sleepy hollow to greeneland   \n",
       "\n",
       "                                                  19  \\\n",
       "0                sara denver, nurse turned solicitor   \n",
       "1  burundi peace initiative fades after rebels re...   \n",
       "2                               corinthians (brazil)   \n",
       "3  upending a table, chopping a line and scoring ...   \n",
       "4              blunkett outlines vision for over 11s   \n",
       "\n",
       "                                                  20  \\\n",
       "0     diana's landmine crusade put tories in a panic   \n",
       "1               pe points the way forward to the ecb   \n",
       "2                                 tony's pet project   \n",
       "3   scientific evidence 'unreliable', defence claims   \n",
       "4  embattled dobson attacks 'play now, pay later'...   \n",
       "\n",
       "                                                  21  \\\n",
       "0  yeltsin's resignation caught opposition flat-f...   \n",
       "1  campaigners keep up pressure on nazi war crime...   \n",
       "2                            al nassr (saudi arabia)   \n",
       "3     fusco wins judicial review in extradition case   \n",
       "4                                  doom and the dome   \n",
       "\n",
       "                                22  \\\n",
       "0                 russian roulette   \n",
       "1                   jane ratcliffe   \n",
       "2                ideal holmes show   \n",
       "3    rebels thwart russian advance   \n",
       "4  what is the north-south divide?   \n",
       "\n",
       "                                                  23  \\\n",
       "0                                           sold out   \n",
       "1  yet more things you wouldn't know without the ...   \n",
       "2               pinochet leaves hospital after tests   \n",
       "3               blair orders shake-up of failing nhs   \n",
       "4                          aitken released from jail   \n",
       "\n",
       "                             24  \n",
       "0            recovering a title  \n",
       "1  millennium bug fails to bite  \n",
       "2                  useful links  \n",
       "3   lessons of law's hard heart  \n",
       "4                    gone aloft  \n",
       "\n",
       "[5 rows x 25 columns]"
      ]
     },
     "execution_count": 13,
     "metadata": {},
     "output_type": "execute_result"
    }
   ],
   "source": [
    "# lower case\n",
    "for index in new_index:\n",
    "    data[index] = data[index].str.lower()\n",
    "    \n",
    "data.head()"
   ]
  },
  {
   "cell_type": "markdown",
   "id": "c3823393",
   "metadata": {
    "papermill": {
     "duration": 0.039416,
     "end_time": "2021-07-18T15:56:17.222915",
     "exception": false,
     "start_time": "2021-07-18T15:56:17.183499",
     "status": "completed"
    },
    "tags": []
   },
   "source": [
    "## Data Wrangling and Merging"
   ]
  },
  {
   "cell_type": "code",
   "execution_count": 14,
   "id": "2ba4ff65",
   "metadata": {
    "execution": {
     "iopub.execute_input": "2021-07-18T15:56:17.304962Z",
     "iopub.status.busy": "2021-07-18T15:56:17.304279Z",
     "iopub.status.idle": "2021-07-18T15:56:17.311869Z",
     "shell.execute_reply": "2021-07-18T15:56:17.312515Z",
     "shell.execute_reply.started": "2021-07-18T15:15:21.805045Z"
    },
    "papermill": {
     "duration": 0.050016,
     "end_time": "2021-07-18T15:56:17.312695",
     "exception": false,
     "start_time": "2021-07-18T15:56:17.262679",
     "status": "completed"
    },
    "tags": []
   },
   "outputs": [
    {
     "data": {
      "text/plain": [
       "0                                             scorecard\n",
       "1                                   the best lake scene\n",
       "2                         leader: german sleaze inquiry\n",
       "3                                         cheerio, boyo\n",
       "4                              the main recommendations\n",
       "5                                has cubie killed fees?\n",
       "6                                has cubie killed fees?\n",
       "7                                has cubie killed fees?\n",
       "8     hopkins 'furious' at foster's lack of hannibal...\n",
       "9                                has cubie killed fees?\n",
       "10                                  a tale of two tails\n",
       "11              i say what i like and i like what i say\n",
       "12                             elbows, eyes and nipples\n",
       "13      task force to assess risk of asteroid collision\n",
       "14                           how i found myself at last\n",
       "15                                 on the critical list\n",
       "16                            the timing of their lives\n",
       "17                                          dear doctor\n",
       "18    irish court halts ira man's extradition to nor...\n",
       "19    burundi peace initiative fades after rebels re...\n",
       "20                 pe points the way forward to the ecb\n",
       "21    campaigners keep up pressure on nazi war crime...\n",
       "22                                       jane ratcliffe\n",
       "23    yet more things you wouldn't know without the ...\n",
       "24                         millennium bug fails to bite\n",
       "Name: 1, dtype: object"
      ]
     },
     "execution_count": 14,
     "metadata": {},
     "output_type": "execute_result"
    }
   ],
   "source": [
    "# print data of perticular(2nd) row\n",
    "data.iloc[1, 0:25]"
   ]
  },
  {
   "cell_type": "code",
   "execution_count": 15,
   "id": "20b64301",
   "metadata": {
    "execution": {
     "iopub.execute_input": "2021-07-18T15:56:17.393369Z",
     "iopub.status.busy": "2021-07-18T15:56:17.392739Z",
     "iopub.status.idle": "2021-07-18T15:56:17.400851Z",
     "shell.execute_reply": "2021-07-18T15:56:17.400226Z",
     "shell.execute_reply.started": "2021-07-18T15:15:21.824852Z"
    },
    "papermill": {
     "duration": 0.049264,
     "end_time": "2021-07-18T15:56:17.400997",
     "exception": false,
     "start_time": "2021-07-18T15:56:17.351733",
     "status": "completed"
    },
    "tags": []
   },
   "outputs": [
    {
     "data": {
      "text/plain": [
       "\"scorecard the best lake scene leader: german sleaze inquiry cheerio, boyo the main recommendations has cubie killed fees? has cubie killed fees? has cubie killed fees? hopkins 'furious' at foster's lack of hannibal appetite has cubie killed fees? a tale of two tails i say what i like and i like what i say elbows, eyes and nipples task force to assess risk of asteroid collision how i found myself at last on the critical list the timing of their lives dear doctor irish court halts ira man's extradition to northern ireland burundi peace initiative fades after rebels reject mandela as mediator pe points the way forward to the ecb campaigners keep up pressure on nazi war crimes suspect jane ratcliffe yet more things you wouldn't know without the movies millennium bug fails to bite\""
      ]
     },
     "execution_count": 15,
     "metadata": {},
     "output_type": "execute_result"
    }
   ],
   "source": [
    "# create list of headlines of perticular date(row) for eg, 2nd row\n",
    "headlines = []\n",
    "for i in data.iloc[1, 0:25]:\n",
    "    headlines.append(i)\n",
    "    \n",
    "# convert list in to string\n",
    "' '.join(headlines)\n",
    "\n",
    "# ' '.join([str(i) for i in data.iloc[1,0:25]])"
   ]
  },
  {
   "cell_type": "code",
   "execution_count": 16,
   "id": "1756d944",
   "metadata": {
    "execution": {
     "iopub.execute_input": "2021-07-18T15:56:17.503880Z",
     "iopub.status.busy": "2021-07-18T15:56:17.498857Z",
     "iopub.status.idle": "2021-07-18T15:56:18.134999Z",
     "shell.execute_reply": "2021-07-18T15:56:18.134396Z",
     "shell.execute_reply.started": "2021-07-18T15:15:21.848305Z"
    },
    "papermill": {
     "duration": 0.694256,
     "end_time": "2021-07-18T15:56:18.135189",
     "exception": false,
     "start_time": "2021-07-18T15:56:17.440933",
     "status": "completed"
    },
    "tags": []
   },
   "outputs": [],
   "source": [
    "# apply the same for all\n",
    "headlines = []\n",
    "for row in range(0, len(data)):\n",
    "    headlines.append(' '.join([str(i) for i in data.iloc[row,0:25]]))"
   ]
  },
  {
   "cell_type": "code",
   "execution_count": 17,
   "id": "5fc14ec0",
   "metadata": {
    "execution": {
     "iopub.execute_input": "2021-07-18T15:56:18.223669Z",
     "iopub.status.busy": "2021-07-18T15:56:18.222766Z",
     "iopub.status.idle": "2021-07-18T15:56:18.226787Z",
     "shell.execute_reply": "2021-07-18T15:56:18.226287Z",
     "shell.execute_reply.started": "2021-07-18T15:15:22.619133Z"
    },
    "papermill": {
     "duration": 0.050474,
     "end_time": "2021-07-18T15:56:18.226928",
     "exception": false,
     "start_time": "2021-07-18T15:56:18.176454",
     "status": "completed"
    },
    "tags": []
   },
   "outputs": [
    {
     "data": {
      "text/plain": [
       "[\"a 'hindrance to operations': extracts from the leaked reports scorecard hughes' instant hit buoys blues jack gets his skates on at ice-cold alex chaos as maracana builds up for united depleted leicester prevail as elliott spoils everton's party hungry spurs sense rich pickings gunners so wide of an easy target derby raise a glass to strupar's debut double southgate strikes, leeds pay the penalty hammers hand robson a youthful lesson saints party like it's 1999 wear wolves have turned into lambs stump mike catches testy gough's taunt langer escapes to hit 167 flintoff injury piles on woe for england hunters threaten jospin with new battle of the somme kohl's successor drawn into scandal the difference between men and women sara denver, nurse turned solicitor diana's landmine crusade put tories in a panic yeltsin's resignation caught opposition flat-footed russian roulette sold out recovering a title\",\n",
       " \"scorecard the best lake scene leader: german sleaze inquiry cheerio, boyo the main recommendations has cubie killed fees? has cubie killed fees? has cubie killed fees? hopkins 'furious' at foster's lack of hannibal appetite has cubie killed fees? a tale of two tails i say what i like and i like what i say elbows, eyes and nipples task force to assess risk of asteroid collision how i found myself at last on the critical list the timing of their lives dear doctor irish court halts ira man's extradition to northern ireland burundi peace initiative fades after rebels reject mandela as mediator pe points the way forward to the ecb campaigners keep up pressure on nazi war crimes suspect jane ratcliffe yet more things you wouldn't know without the movies millennium bug fails to bite\",\n",
       " \"coventry caught on counter by flo united's rivals on the road to rio thatcher issues defence before trial by video police help smith lay down the law at everton tale of trautmann bears two more retellings england on the rack pakistan retaliate with call for video of walsh cullinan continues his cape monopoly mcgrath puts india out of their misery blair witch bandwagon rolls on pele turns up heat on ferguson party divided over kohl slush fund scandal manchester united (england) women in record south pole walk vasco da gama (brazil) south melbourne (australia) necaxa (mexico) real madrid (spain) raja casablanca (morocco) corinthians (brazil) tony's pet project al nassr (saudi arabia) ideal holmes show pinochet leaves hospital after tests useful links\"]"
      ]
     },
     "execution_count": 17,
     "metadata": {},
     "output_type": "execute_result"
    }
   ],
   "source": [
    "headlines[0:3]"
   ]
  },
  {
   "cell_type": "markdown",
   "id": "304d6bfa",
   "metadata": {
    "papermill": {
     "duration": 0.04063,
     "end_time": "2021-07-18T15:56:18.307361",
     "exception": false,
     "start_time": "2021-07-18T15:56:18.266731",
     "status": "completed"
    },
    "tags": []
   },
   "source": [
    "## Bag-Of-Words"
   ]
  },
  {
   "cell_type": "code",
   "execution_count": 18,
   "id": "be950746",
   "metadata": {
    "execution": {
     "iopub.execute_input": "2021-07-18T15:56:18.420756Z",
     "iopub.status.busy": "2021-07-18T15:56:18.410375Z",
     "iopub.status.idle": "2021-07-18T15:56:23.122453Z",
     "shell.execute_reply": "2021-07-18T15:56:23.121797Z",
     "shell.execute_reply.started": "2021-07-18T15:17:26.512944Z"
    },
    "papermill": {
     "duration": 4.775524,
     "end_time": "2021-07-18T15:56:23.122608",
     "exception": false,
     "start_time": "2021-07-18T15:56:18.347084",
     "status": "completed"
    },
    "tags": []
   },
   "outputs": [],
   "source": [
    "cv = CountVectorizer(ngram_range=(2,2))\n",
    "train_data_x = cv.fit_transform(headlines)"
   ]
  },
  {
   "cell_type": "code",
   "execution_count": 19,
   "id": "8662cb86",
   "metadata": {
    "execution": {
     "iopub.execute_input": "2021-07-18T15:56:23.208430Z",
     "iopub.status.busy": "2021-07-18T15:56:23.207597Z",
     "iopub.status.idle": "2021-07-18T15:56:23.211023Z",
     "shell.execute_reply": "2021-07-18T15:56:23.211500Z",
     "shell.execute_reply.started": "2021-07-18T15:17:59.484876Z"
    },
    "papermill": {
     "duration": 0.048923,
     "end_time": "2021-07-18T15:56:23.211678",
     "exception": false,
     "start_time": "2021-07-18T15:56:23.162755",
     "status": "completed"
    },
    "tags": []
   },
   "outputs": [
    {
     "data": {
      "text/plain": [
       "(3975, 598246)"
      ]
     },
     "execution_count": 19,
     "metadata": {},
     "output_type": "execute_result"
    }
   ],
   "source": [
    "train_data_x.shape"
   ]
  },
  {
   "cell_type": "markdown",
   "id": "6398b1f3",
   "metadata": {
    "papermill": {
     "duration": 0.039458,
     "end_time": "2021-07-18T15:56:23.291760",
     "exception": false,
     "start_time": "2021-07-18T15:56:23.252302",
     "status": "completed"
    },
    "tags": []
   },
   "source": [
    "## Random Forest Classifier"
   ]
  },
  {
   "cell_type": "code",
   "execution_count": 20,
   "id": "76a99d58",
   "metadata": {
    "execution": {
     "iopub.execute_input": "2021-07-18T15:56:23.378435Z",
     "iopub.status.busy": "2021-07-18T15:56:23.377259Z",
     "iopub.status.idle": "2021-07-18T15:57:24.136674Z",
     "shell.execute_reply": "2021-07-18T15:57:24.137216Z",
     "shell.execute_reply.started": "2021-07-18T15:20:25.145293Z"
    },
    "papermill": {
     "duration": 60.805552,
     "end_time": "2021-07-18T15:57:24.137401",
     "exception": false,
     "start_time": "2021-07-18T15:56:23.331849",
     "status": "completed"
    },
    "tags": []
   },
   "outputs": [
    {
     "data": {
      "text/plain": [
       "RandomForestClassifier(criterion='entropy', n_estimators=200)"
      ]
     },
     "execution_count": 20,
     "metadata": {},
     "output_type": "execute_result"
    }
   ],
   "source": [
    "rf = RandomForestClassifier(n_estimators=200, criterion='entropy')\n",
    "rf.fit(train_data_x, train['Label'])"
   ]
  },
  {
   "cell_type": "code",
   "execution_count": 21,
   "id": "9c0916eb",
   "metadata": {
    "execution": {
     "iopub.execute_input": "2021-07-18T15:57:24.262441Z",
     "iopub.status.busy": "2021-07-18T15:57:24.257139Z",
     "iopub.status.idle": "2021-07-18T15:57:24.323097Z",
     "shell.execute_reply": "2021-07-18T15:57:24.322517Z",
     "shell.execute_reply.started": "2021-07-18T15:28:51.260850Z"
    },
    "papermill": {
     "duration": 0.145622,
     "end_time": "2021-07-18T15:57:24.323273",
     "exception": false,
     "start_time": "2021-07-18T15:57:24.177651",
     "status": "completed"
    },
    "tags": []
   },
   "outputs": [],
   "source": [
    "# test data\n",
    "test_headlines = []\n",
    "\n",
    "for row in range(0, len(test)):\n",
    "    test_headlines.append(' '.join([str(i) for i in test.iloc[row,2:27]]))"
   ]
  },
  {
   "cell_type": "code",
   "execution_count": 22,
   "id": "2a9743c6",
   "metadata": {
    "execution": {
     "iopub.execute_input": "2021-07-18T15:57:24.439126Z",
     "iopub.status.busy": "2021-07-18T15:57:24.433871Z",
     "iopub.status.idle": "2021-07-18T15:57:24.741039Z",
     "shell.execute_reply": "2021-07-18T15:57:24.740474Z",
     "shell.execute_reply.started": "2021-07-18T15:30:04.197229Z"
    },
    "papermill": {
     "duration": 0.377245,
     "end_time": "2021-07-18T15:57:24.741218",
     "exception": false,
     "start_time": "2021-07-18T15:57:24.363973",
     "status": "completed"
    },
    "tags": []
   },
   "outputs": [],
   "source": [
    "# bag-of-words\n",
    "test_data = cv.transform(test_headlines)"
   ]
  },
  {
   "cell_type": "code",
   "execution_count": 23,
   "id": "31a8a36d",
   "metadata": {
    "execution": {
     "iopub.execute_input": "2021-07-18T15:57:24.828494Z",
     "iopub.status.busy": "2021-07-18T15:57:24.827820Z",
     "iopub.status.idle": "2021-07-18T15:57:24.830259Z",
     "shell.execute_reply": "2021-07-18T15:57:24.830851Z",
     "shell.execute_reply.started": "2021-07-18T15:32:09.438315Z"
    },
    "papermill": {
     "duration": 0.048533,
     "end_time": "2021-07-18T15:57:24.831024",
     "exception": false,
     "start_time": "2021-07-18T15:57:24.782491",
     "status": "completed"
    },
    "tags": []
   },
   "outputs": [
    {
     "data": {
      "text/plain": [
       "(378, 598246)"
      ]
     },
     "execution_count": 23,
     "metadata": {},
     "output_type": "execute_result"
    }
   ],
   "source": [
    "test_data.shape"
   ]
  },
  {
   "cell_type": "code",
   "execution_count": 24,
   "id": "8a4ee10b",
   "metadata": {
    "execution": {
     "iopub.execute_input": "2021-07-18T15:57:24.916305Z",
     "iopub.status.busy": "2021-07-18T15:57:24.915633Z",
     "iopub.status.idle": "2021-07-18T15:57:25.401717Z",
     "shell.execute_reply": "2021-07-18T15:57:25.401173Z",
     "shell.execute_reply.started": "2021-07-18T15:30:27.987431Z"
    },
    "papermill": {
     "duration": 0.529991,
     "end_time": "2021-07-18T15:57:25.401865",
     "exception": false,
     "start_time": "2021-07-18T15:57:24.871874",
     "status": "completed"
    },
    "tags": []
   },
   "outputs": [
    {
     "data": {
      "text/plain": [
       "array([1, 0, 0, 1, 1, 0, 0, 0, 0, 0, 1, 1, 1, 1, 0, 1, 0, 0, 1, 0, 1, 1,\n",
       "       1, 1, 0, 0, 1, 0, 1, 1, 1, 0, 0, 1, 0, 1, 1, 0, 0, 1, 0, 0, 1, 0,\n",
       "       1, 0, 0, 1, 0, 1, 0, 1, 0, 1, 0, 0, 0, 0, 1, 1, 0, 0, 1, 1, 0, 1,\n",
       "       1, 1, 0, 1, 1, 0, 0, 1, 0, 1, 1, 1, 0, 1, 0, 0, 1, 1, 0, 0, 1, 1,\n",
       "       0, 0, 0, 1, 1, 1, 1, 0, 1, 0, 0, 1, 0, 0, 1, 0, 1, 0, 0, 0, 0, 1,\n",
       "       1, 0, 0, 1, 1, 1, 0, 1, 1, 0, 0, 1, 0, 1, 1, 0, 0, 1, 0, 1, 1, 1,\n",
       "       1, 0, 1, 0, 1, 0, 0, 0, 0, 0, 1, 1, 0, 0, 0, 0, 0, 0, 0, 1, 0, 0,\n",
       "       1, 1, 1, 0, 0, 0, 0, 0, 0, 1, 1, 0, 0, 0, 1, 1, 0, 1, 0, 1, 1, 0,\n",
       "       1, 1, 0, 0, 1, 0, 0, 0, 1, 0, 1, 1, 0, 1, 1, 1, 1, 1, 1, 1, 0, 0,\n",
       "       1, 1, 1, 0, 0, 1, 1, 0, 0, 1, 0, 0, 1, 1, 0, 0, 1, 0, 1, 0, 0, 0,\n",
       "       1, 1, 1, 0, 1, 0, 1, 1, 0, 0, 1, 0, 0, 1, 0, 0, 0, 1, 0, 1, 1, 1,\n",
       "       0, 0, 1, 1, 1, 0, 0, 1, 0, 0, 1, 0, 1, 1, 1, 1, 1, 1, 1, 1, 0, 1,\n",
       "       1, 0, 1, 1, 1, 1, 1, 1, 0, 1, 1, 1, 1, 0, 1, 1, 1, 1, 1, 1, 1, 0,\n",
       "       1, 1, 1, 1, 1, 1, 1, 1, 1, 1, 0, 1, 1, 1, 1, 1, 1, 1, 0, 1, 1, 0,\n",
       "       1, 1, 1, 1, 1, 1, 1, 0, 1, 1, 1, 0, 1, 0, 1, 1, 1, 1, 1, 1, 1, 1,\n",
       "       1, 1, 1, 1, 0, 1, 0, 0, 1, 1, 1, 1, 1, 1, 0, 0, 1, 0, 1, 0, 1, 0,\n",
       "       1, 1, 1, 1, 1, 1, 1, 1, 1, 1, 1, 1, 1, 1, 1, 1, 1, 1, 0, 1, 0, 1,\n",
       "       1, 1, 1, 0])"
      ]
     },
     "execution_count": 24,
     "metadata": {},
     "output_type": "execute_result"
    }
   ],
   "source": [
    "pred = rf.predict(test_data)\n",
    "pred"
   ]
  },
  {
   "cell_type": "markdown",
   "id": "eb709430",
   "metadata": {
    "papermill": {
     "duration": 0.0409,
     "end_time": "2021-07-18T15:57:25.484102",
     "exception": false,
     "start_time": "2021-07-18T15:57:25.443202",
     "status": "completed"
    },
    "tags": []
   },
   "source": [
    "### Evaluation"
   ]
  },
  {
   "cell_type": "code",
   "execution_count": 25,
   "id": "3010e61f",
   "metadata": {
    "execution": {
     "iopub.execute_input": "2021-07-18T15:57:25.572259Z",
     "iopub.status.busy": "2021-07-18T15:57:25.571581Z",
     "iopub.status.idle": "2021-07-18T15:57:25.580029Z",
     "shell.execute_reply": "2021-07-18T15:57:25.579532Z",
     "shell.execute_reply.started": "2021-07-18T15:35:14.523107Z"
    },
    "papermill": {
     "duration": 0.054527,
     "end_time": "2021-07-18T15:57:25.580190",
     "exception": false,
     "start_time": "2021-07-18T15:57:25.525663",
     "status": "completed"
    },
    "tags": []
   },
   "outputs": [
    {
     "data": {
      "text/plain": [
       "array([[142,  44],\n",
       "       [ 11, 181]])"
      ]
     },
     "execution_count": 25,
     "metadata": {},
     "output_type": "execute_result"
    }
   ],
   "source": [
    "# confusion matrix\n",
    "cm = confusion_matrix(test['Label'], pred)\n",
    "cm"
   ]
  },
  {
   "cell_type": "code",
   "execution_count": 26,
   "id": "2f76c417",
   "metadata": {
    "execution": {
     "iopub.execute_input": "2021-07-18T15:57:25.685504Z",
     "iopub.status.busy": "2021-07-18T15:57:25.684734Z",
     "iopub.status.idle": "2021-07-18T15:57:25.976774Z",
     "shell.execute_reply": "2021-07-18T15:57:25.977327Z",
     "shell.execute_reply.started": "2021-07-18T15:38:57.989427Z"
    },
    "papermill": {
     "duration": 0.35581,
     "end_time": "2021-07-18T15:57:25.977522",
     "exception": false,
     "start_time": "2021-07-18T15:57:25.621712",
     "status": "completed"
    },
    "tags": []
   },
   "outputs": [
    {
     "data": {
      "text/plain": [
       "Text(49.65000000000006, 0.5, 'Predicted Labels')"
      ]
     },
     "execution_count": 26,
     "metadata": {},
     "output_type": "execute_result"
    },
    {
     "data": {
      "image/png": "[encoded data removed]",
      "text/plain": [
       "<Figure size 432x288 with 2 Axes>"
      ]
     },
     "metadata": {
      "needs_background": "light"
     },
     "output_type": "display_data"
    }
   ],
   "source": [
    "plt.imshow(cm, cmap=plt.cm.Blues)\n",
    "plt.title('Confusion Matrix')\n",
    "plt.colorbar()\n",
    "\n",
    "labels = ['postivie', 'negative']\n",
    "tick_marks = np.arange(len(labels))\n",
    "plt.xticks(tick_marks, labels, rotation=90)\n",
    "plt.yticks(tick_marks, labels)\n",
    "\n",
    "plt.tight_layout()\n",
    "plt.xlabel('True Labels')\n",
    "plt.ylabel('Predicted Labels')"
   ]
  },
  {
   "cell_type": "code",
   "execution_count": 27,
   "id": "17993666",
   "metadata": {
    "execution": {
     "iopub.execute_input": "2021-07-18T15:57:26.069402Z",
     "iopub.status.busy": "2021-07-18T15:57:26.068421Z",
     "iopub.status.idle": "2021-07-18T15:57:26.072351Z",
     "shell.execute_reply": "2021-07-18T15:57:26.072852Z",
     "shell.execute_reply.started": "2021-07-18T15:40:06.847451Z"
    },
    "papermill": {
     "duration": 0.052909,
     "end_time": "2021-07-18T15:57:26.073020",
     "exception": false,
     "start_time": "2021-07-18T15:57:26.020111",
     "status": "completed"
    },
    "tags": []
   },
   "outputs": [
    {
     "data": {
      "text/plain": [
       "0.8544973544973545"
      ]
     },
     "execution_count": 27,
     "metadata": {},
     "output_type": "execute_result"
    }
   ],
   "source": [
    "# accuracy score\n",
    "accuracy_score(test['Label'], pred)"
   ]
  },
  {
   "cell_type": "code",
   "execution_count": 28,
   "id": "7d8d9997",
   "metadata": {
    "execution": {
     "iopub.execute_input": "2021-07-18T15:57:26.163281Z",
     "iopub.status.busy": "2021-07-18T15:57:26.162614Z",
     "iopub.status.idle": "2021-07-18T15:57:26.173416Z",
     "shell.execute_reply": "2021-07-18T15:57:26.172517Z",
     "shell.execute_reply.started": "2021-07-18T15:41:15.834553Z"
    },
    "papermill": {
     "duration": 0.057038,
     "end_time": "2021-07-18T15:57:26.173606",
     "exception": false,
     "start_time": "2021-07-18T15:57:26.116568",
     "status": "completed"
    },
    "tags": []
   },
   "outputs": [
    {
     "name": "stdout",
     "output_type": "stream",
     "text": [
      "              precision    recall  f1-score   support\n",
      "\n",
      "           0       0.93      0.76      0.84       186\n",
      "           1       0.80      0.94      0.87       192\n",
      "\n",
      "    accuracy                           0.85       378\n",
      "   macro avg       0.87      0.85      0.85       378\n",
      "weighted avg       0.87      0.85      0.85       378\n",
      "\n"
     ]
    }
   ],
   "source": [
    "# classification report\n",
    "report = classification_report(test['Label'], pred)\n",
    "print(report)"
   ]
  },
  {
   "cell_type": "markdown",
   "id": "1038502c",
   "metadata": {
    "papermill": {
     "duration": 0.043192,
     "end_time": "2021-07-18T15:57:26.261030",
     "exception": false,
     "start_time": "2021-07-18T15:57:26.217838",
     "status": "completed"
    },
    "tags": []
   },
   "source": [
    "## Naive Bayes Classifier"
   ]
  },
  {
   "cell_type": "code",
   "execution_count": 29,
   "id": "c6ebc3c6",
   "metadata": {
    "execution": {
     "iopub.execute_input": "2021-07-18T15:57:26.353196Z",
     "iopub.status.busy": "2021-07-18T15:57:26.352463Z",
     "iopub.status.idle": "2021-07-18T15:57:26.355421Z",
     "shell.execute_reply": "2021-07-18T15:57:26.354795Z",
     "shell.execute_reply.started": "2021-07-18T15:51:18.225135Z"
    },
    "papermill": {
     "duration": 0.05099,
     "end_time": "2021-07-18T15:57:26.355585",
     "exception": false,
     "start_time": "2021-07-18T15:57:26.304595",
     "status": "completed"
    },
    "tags": []
   },
   "outputs": [],
   "source": [
    "nb = MultinomialNB()"
   ]
  },
  {
   "cell_type": "code",
   "execution_count": 30,
   "id": "0a42ac43",
   "metadata": {
    "execution": {
     "iopub.execute_input": "2021-07-18T15:57:26.447224Z",
     "iopub.status.busy": "2021-07-18T15:57:26.446512Z",
     "iopub.status.idle": "2021-07-18T15:57:26.527226Z",
     "shell.execute_reply": "2021-07-18T15:57:26.526690Z",
     "shell.execute_reply.started": "2021-07-18T15:51:27.144599Z"
    },
    "papermill": {
     "duration": 0.128254,
     "end_time": "2021-07-18T15:57:26.527379",
     "exception": false,
     "start_time": "2021-07-18T15:57:26.399125",
     "status": "completed"
    },
    "tags": []
   },
   "outputs": [
    {
     "data": {
      "text/plain": [
       "MultinomialNB()"
      ]
     },
     "execution_count": 30,
     "metadata": {},
     "output_type": "execute_result"
    }
   ],
   "source": [
    "nb.fit(train_data_x, train['Label'])"
   ]
  },
  {
   "cell_type": "code",
   "execution_count": 31,
   "id": "10955954",
   "metadata": {
    "execution": {
     "iopub.execute_input": "2021-07-18T15:57:26.620209Z",
     "iopub.status.busy": "2021-07-18T15:57:26.619452Z",
     "iopub.status.idle": "2021-07-18T15:57:26.633614Z",
     "shell.execute_reply": "2021-07-18T15:57:26.632992Z",
     "shell.execute_reply.started": "2021-07-18T15:51:55.666097Z"
    },
    "papermill": {
     "duration": 0.062771,
     "end_time": "2021-07-18T15:57:26.633753",
     "exception": false,
     "start_time": "2021-07-18T15:57:26.570982",
     "status": "completed"
    },
    "tags": []
   },
   "outputs": [
    {
     "data": {
      "text/plain": [
       "array([1, 0, 0, 1, 1, 0, 0, 0, 0, 0, 1, 1, 1, 1, 0, 1, 0, 0, 1, 0, 1, 1,\n",
       "       1, 1, 0, 0, 1, 0, 1, 1, 1, 0, 0, 1, 0, 1, 1, 0, 0, 1, 0, 0, 1, 0,\n",
       "       1, 0, 0, 1, 0, 1, 0, 1, 0, 1, 0, 0, 0, 0, 1, 1, 0, 0, 1, 1, 0, 1,\n",
       "       1, 1, 0, 1, 1, 0, 0, 1, 0, 1, 1, 1, 0, 1, 0, 0, 1, 1, 0, 0, 1, 1,\n",
       "       0, 0, 0, 1, 1, 1, 1, 0, 1, 0, 0, 1, 0, 0, 1, 0, 1, 0, 0, 0, 0, 1,\n",
       "       1, 0, 0, 1, 1, 1, 0, 1, 1, 0, 0, 1, 0, 1, 1, 0, 0, 1, 0, 1, 1, 1,\n",
       "       1, 0, 1, 0, 1, 0, 0, 0, 0, 0, 1, 1, 0, 0, 0, 0, 0, 0, 0, 1, 0, 0,\n",
       "       1, 1, 1, 0, 0, 0, 0, 0, 0, 1, 1, 0, 0, 0, 1, 1, 0, 1, 0, 1, 1, 0,\n",
       "       1, 1, 0, 0, 1, 0, 0, 0, 1, 0, 1, 1, 0, 1, 1, 1, 1, 1, 1, 1, 0, 0,\n",
       "       1, 1, 1, 0, 0, 1, 1, 0, 0, 1, 0, 0, 1, 1, 0, 0, 1, 0, 1, 0, 0, 0,\n",
       "       1, 1, 1, 0, 1, 0, 1, 1, 0, 0, 1, 0, 0, 1, 0, 0, 0, 1, 0, 1, 1, 1,\n",
       "       0, 0, 1, 1, 1, 0, 0, 1, 0, 0, 1, 1, 1, 1, 1, 1, 1, 1, 1, 1, 0, 1,\n",
       "       1, 1, 0, 1, 1, 1, 1, 1, 1, 1, 1, 1, 1, 0, 1, 1, 1, 1, 1, 1, 1, 1,\n",
       "       1, 1, 1, 1, 1, 1, 1, 1, 1, 1, 1, 1, 1, 1, 1, 1, 1, 0, 1, 1, 1, 1,\n",
       "       1, 1, 1, 1, 1, 0, 1, 1, 1, 0, 1, 0, 1, 0, 1, 1, 1, 0, 1, 1, 1, 1,\n",
       "       1, 1, 1, 1, 0, 1, 1, 1, 1, 0, 1, 1, 1, 1, 1, 0, 1, 1, 1, 0, 1, 1,\n",
       "       1, 1, 1, 1, 0, 1, 1, 1, 1, 1, 1, 1, 1, 1, 0, 1, 1, 1, 1, 0, 1, 1,\n",
       "       1, 1, 1, 1])"
      ]
     },
     "execution_count": 31,
     "metadata": {},
     "output_type": "execute_result"
    }
   ],
   "source": [
    "prediction = nb.predict(test_data)\n",
    "prediction"
   ]
  },
  {
   "cell_type": "code",
   "execution_count": 32,
   "id": "dd658d85",
   "metadata": {
    "execution": {
     "iopub.execute_input": "2021-07-18T15:57:26.728862Z",
     "iopub.status.busy": "2021-07-18T15:57:26.726473Z",
     "iopub.status.idle": "2021-07-18T15:57:26.731860Z",
     "shell.execute_reply": "2021-07-18T15:57:26.732438Z",
     "shell.execute_reply.started": "2021-07-18T15:52:23.764853Z"
    },
    "papermill": {
     "duration": 0.053814,
     "end_time": "2021-07-18T15:57:26.732609",
     "exception": false,
     "start_time": "2021-07-18T15:57:26.678795",
     "status": "completed"
    },
    "tags": []
   },
   "outputs": [
    {
     "data": {
      "text/plain": [
       "array([[137,  49],\n",
       "       [  9, 183]])"
      ]
     },
     "execution_count": 32,
     "metadata": {},
     "output_type": "execute_result"
    }
   ],
   "source": [
    "# confusion matrix\n",
    "cm2 = confusion_matrix(test['Label'], prediction)\n",
    "cm2"
   ]
  },
  {
   "cell_type": "code",
   "execution_count": 33,
   "id": "a3bf1dfd",
   "metadata": {
    "execution": {
     "iopub.execute_input": "2021-07-18T15:57:26.824324Z",
     "iopub.status.busy": "2021-07-18T15:57:26.823707Z",
     "iopub.status.idle": "2021-07-18T15:57:26.829341Z",
     "shell.execute_reply": "2021-07-18T15:57:26.829929Z",
     "shell.execute_reply.started": "2021-07-18T15:54:07.406230Z"
    },
    "papermill": {
     "duration": 0.053085,
     "end_time": "2021-07-18T15:57:26.830111",
     "exception": false,
     "start_time": "2021-07-18T15:57:26.777026",
     "status": "completed"
    },
    "tags": []
   },
   "outputs": [],
   "source": [
    "def plot_confusion_matrix(cm, title='Confusion Matrix'):\n",
    "    plt.imshow(cm, cmap=plt.cm.Blues)\n",
    "    plt.title(title)\n",
    "    plt.colorbar()\n",
    "\n",
    "    labels = ['postivie', 'negative']\n",
    "    tick_marks = np.arange(len(labels))\n",
    "    plt.xticks(tick_marks, labels, rotation=90)\n",
    "    plt.yticks(tick_marks, labels)\n",
    "\n",
    "    plt.tight_layout()\n",
    "    plt.xlabel('True Labels')\n",
    "    plt.ylabel('Predicted Labels')"
   ]
  },
  {
   "cell_type": "code",
   "execution_count": 34,
   "id": "99982ba5",
   "metadata": {
    "execution": {
     "iopub.execute_input": "2021-07-18T15:57:26.921417Z",
     "iopub.status.busy": "2021-07-18T15:57:26.920809Z",
     "iopub.status.idle": "2021-07-18T15:57:27.184378Z",
     "shell.execute_reply": "2021-07-18T15:57:27.184927Z",
     "shell.execute_reply.started": "2021-07-18T15:54:08.522258Z"
    },
    "papermill": {
     "duration": 0.311288,
     "end_time": "2021-07-18T15:57:27.185115",
     "exception": false,
     "start_time": "2021-07-18T15:57:26.873827",
     "status": "completed"
    },
    "tags": []
   },
   "outputs": [
    {
     "data": {
      "image/png": "[encoded data removed]",
      "text/plain": [
       "<Figure size 432x288 with 2 Axes>"
      ]
     },
     "metadata": {
      "needs_background": "light"
     },
     "output_type": "display_data"
    }
   ],
   "source": [
    "plot_confusion_matrix(cm2)"
   ]
  },
  {
   "cell_type": "code",
   "execution_count": 35,
   "id": "14e6c5ed",
   "metadata": {
    "execution": {
     "iopub.execute_input": "2021-07-18T15:57:27.278974Z",
     "iopub.status.busy": "2021-07-18T15:57:27.278312Z",
     "iopub.status.idle": "2021-07-18T15:57:27.287811Z",
     "shell.execute_reply": "2021-07-18T15:57:27.288350Z",
     "shell.execute_reply.started": "2021-07-18T15:55:02.298728Z"
    },
    "papermill": {
     "duration": 0.058396,
     "end_time": "2021-07-18T15:57:27.288519",
     "exception": false,
     "start_time": "2021-07-18T15:57:27.230123",
     "status": "completed"
    },
    "tags": []
   },
   "outputs": [
    {
     "name": "stdout",
     "output_type": "stream",
     "text": [
      "              precision    recall  f1-score   support\n",
      "\n",
      "           0       0.94      0.74      0.83       186\n",
      "           1       0.79      0.95      0.86       192\n",
      "\n",
      "    accuracy                           0.85       378\n",
      "   macro avg       0.86      0.84      0.84       378\n",
      "weighted avg       0.86      0.85      0.84       378\n",
      "\n"
     ]
    }
   ],
   "source": [
    "# classification report\n",
    "report2 = classification_report(test['Label'], prediction)\n",
    "print(report2)"
   ]
  },
  {
   "cell_type": "code",
   "execution_count": 36,
   "id": "ff0540b5",
   "metadata": {
    "execution": {
     "iopub.execute_input": "2021-07-18T15:57:27.383722Z",
     "iopub.status.busy": "2021-07-18T15:57:27.383040Z",
     "iopub.status.idle": "2021-07-18T15:57:27.387431Z",
     "shell.execute_reply": "2021-07-18T15:57:27.388022Z",
     "shell.execute_reply.started": "2021-07-18T15:55:21.387777Z"
    },
    "papermill": {
     "duration": 0.054061,
     "end_time": "2021-07-18T15:57:27.388200",
     "exception": false,
     "start_time": "2021-07-18T15:57:27.334139",
     "status": "completed"
    },
    "tags": []
   },
   "outputs": [
    {
     "data": {
      "text/plain": [
       "0.8465608465608465"
      ]
     },
     "execution_count": 36,
     "metadata": {},
     "output_type": "execute_result"
    }
   ],
   "source": [
    "# accuracy score\n",
    "accuracy_score(test['Label'], prediction)"
   ]
  },
  {
   "cell_type": "code",
   "execution_count": null,
   "id": "8c475f5a",
   "metadata": {
    "papermill": {
     "duration": 0.043798,
     "end_time": "2021-07-18T15:57:27.477390",
     "exception": false,
     "start_time": "2021-07-18T15:57:27.433592",
     "status": "completed"
    },
    "tags": []
   },
   "outputs": [],
   "source": []
  }
 ],
 "metadata": {
  "kernelspec": {
   "display_name": "Python 3",
   "language": "python",
   "name": "python3"
  },
  "language_info": {
   "codemirror_mode": {
    "name": "ipython",
    "version": 3
   },
   "file_extension": ".py",
   "mimetype": "text/x-python",
   "name": "python",
   "nbconvert_exporter": "python",
   "pygments_lexer": "ipython3",
   "version": "3.7.10"
  },
  "papermill": {
   "default_parameters": {},
   "duration": 82.875741,
   "end_time": "2021-07-18T15:57:28.942394",
   "environment_variables": {},
   "exception": null,
   "input_path": "__notebook__.ipynb",
   "output_path": "__notebook__.ipynb",
   "parameters": {},
   "start_time": "2021-07-18T15:56:06.066653",
   "version": "2.3.3"
  }
 },
 "nbformat": 4,
 "nbformat_minor": 5
}
